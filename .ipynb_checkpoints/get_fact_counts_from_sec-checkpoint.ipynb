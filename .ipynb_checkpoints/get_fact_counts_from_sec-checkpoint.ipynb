{
 "metadata": {
  "name": "",
  "signature": "sha256:0082472b8f6556601994ef6d1e9730b5ee013bf0bf4b4049a71b4c4e5b74f6ad"
 },
 "nbformat": 3,
 "nbformat_minor": 0,
 "worksheets": [
  {
   "cells": [
    {
     "cell_type": "code",
     "collapsed": false,
     "input": [
      "import urllib2, re, csv, sys\n",
      "import lxml.etree as etree\n",
      "from io import StringIO\n",
      "from bs4 import BeautifulSoup\n",
      "from datetime import datetime\n",
      "from collections import defaultdict"
     ],
     "language": "python",
     "metadata": {},
     "outputs": [],
     "prompt_number": 83
    },
    {
     "cell_type": "code",
     "collapsed": false,
     "input": [
      "# destination file\n",
      "pstart = datetime.now()\n",
      "dest = open('C:/cygwin64/home/Mike.Breecher/sec-scraper/test/fact_counts.csv', 'w')\n",
      "writer = csv.writer(dest)\n",
      "#error file\n",
      "error = open('C:/cygwin64/home/Mike.Breecher/sec-scraper/test/errors.csv', 'w')\n",
      "error_write = csv.writer(error)\n",
      "\n",
      "with open('C:/cygwin64/home/Mike.Breecher/sec-scraper/test/ciks.csv', 'rb') as f:\n",
      "    reader = csv.reader(f)\n",
      "    for i, line in enumerate(reader):\n",
      "        # for each cik, read html page on sec\n",
      "        testcik = str(line[0])\n",
      "        print \"cik\" + \" \" + testcik\n",
      "        url = 'http://www.sec.gov/cgi-bin/browse-edgar?action=getcompany&CIK=' + testcik + '&type=10&dateb=&owner=exclude&count=40'\n",
      "        u = urllib2.urlopen(url)\n",
      "        try:\n",
      "            html = u.read()\n",
      "            \n",
      "            if 'No matching CIK' in html:\n",
      "                print line[0] + ' is an invalid CIK'\n",
      "                error_result = [line[0], 'invalid CIK']\n",
      "                error_write.writerow(error_result)\n",
      "            else:\n",
      "                split_links = html.split(\"\\\" id=\\\"documentsbutton\\\"\");\n",
      "                s = 0\n",
      "                result = 0\n",
      "                while True:\n",
      "                    # check that we still have documents links and haven't gotten our 4 filings\n",
      "                    if s >= len(split_links) or result >= 4:\n",
      "                        break\n",
      "                    else:\n",
      "                        split_xbrl = split_links[s].split(\"<a href=\\\"\")\n",
      "                        s = s + 1\n",
      "                        \n",
      "                        #then check to see if we have an href to follow\n",
      "                        if 'Archives' in split_xbrl[len(split_xbrl) - 1]:\n",
      "                            # then follow the link to filings\n",
      "                            url = 'http://www.sec.gov' + split_xbrl[len(split_xbrl) - 1]\n",
      "                            u = urllib2.urlopen(url)\n",
      "                            \n",
      "                            try:\n",
      "                                html = u.read()\n",
      "                                u.close\n",
      "                                instance_split = html.split(\"XBRL INSTANCE DOCUMENT\")\n",
      "                                if len(instance_split) >= 2:\n",
      "                                    split_page = instance_split[1].split(\".xml</a>\",1);\n",
      "                                    split_xbrl = split_page[0].split(\"<a href=\\\"\")\n",
      "                                    split_xml = split_xbrl[len(split_xbrl)-1].split(\"\\\">\")\n",
      "                                    \n",
      "                                    #grab the filing date\n",
      "                                    split_date = html.split(\"<div class=\\\"infoHead\\\">Filing Date</div>\")\n",
      "                                    split_date = split_date[1].split(\"<div class=\\\"infoHead\\\">Accepted</div>\")\n",
      "                                    split_date = split_date[0].replace(\"<div class=\\\"info\\\">\",\"\")\n",
      "                                    split_date = split_date.replace(\"</div>\",\"\")\n",
      "                                    split_date = split_date.strip()\n",
      "\n",
      "                                    doctype = \"\"\n",
      "                                    if \"10-K\" in html:\n",
      "                                        doctype = \"10-K\"\n",
      "                                    elif \"10-Q\" in html:\n",
      "                                        doctype = \"10-Q\"\n",
      "\n",
      "                                    # then follow the link to the instance file\n",
      "                                    url = 'http://www.sec.gov' + split_xml[0]\n",
      "                                    u = urllib2.urlopen(url)\n",
      "\n",
      "                                    if not \"10-Q/A\" in html and not \"10-K/A\" in html: \n",
      "                                        try:\n",
      "                                            html = u.read()\n",
      "                                            html = html.split(\"-->\")\n",
      "                                            xml = \"\"\n",
      "                                            for element in html:\n",
      "                                                sub = element.split(\"<!--\")\n",
      "                                                xml = xml + sub[0] \n",
      "\n",
      "                                            try:\n",
      "                                                xmldoc = etree.fromstring(xml)\n",
      "                                                if len(xmldoc) > 10:\n",
      "                                                    #for node in list(xmldoc.iter()):\n",
      "                                                    std_list = []\n",
      "                                                    ext_list = []\n",
      "                                                    ignored = []\n",
      "                                                    for node in list(xmldoc):\n",
      "                                                        if node.prefix is None or len(node.prefix) == 0:  \n",
      "                                                            ignored.append(node.tag)\n",
      "                                                        elif 'dei' in node.prefix or 'us-gaap' in node.prefix:\n",
      "                                                            std_list.append(node.tag)\n",
      "                                                        elif not 'xbrli' in node.prefix and not 'link' in node.prefix:\n",
      "                                                            ext_list.append(node.tag)\n",
      "                                                        else:\n",
      "                                                            ignored.append(node.tag)\n",
      "                                                        #print (node.prefix + \" \" + node.tag)\n",
      "                                                        #print node.tag\n",
      "                                                        #print node.text\n",
      "                                                        #mylist.append(node.prefix)\n",
      "                                                    if fact_count > 0:\n",
      "                                                        fact_count = len(std_list) + len(ext_list)\n",
      "                                                        print testcik + \",\" + doctype+ \",\" + split_date + \",\" + str(fact_count) + ',' + str(len(set(std_list))) + \",\" + str(len(set(ext_list))) \n",
      "                                                        output = [testcik, doctype, split_date, fact_count, len(set(std_list)), len(set(ext_list))]\n",
      "                                                        writer.writerow(output)\n",
      "                                                        set(ignored)\n",
      "                                                        result = result + 1\n",
      "                                            finally:\n",
      "                                                pass\n",
      "                                        finally:\n",
      "                                            u.close\n",
      "                            finally:\n",
      "                                u.close\n",
      "        finally:\n",
      "            u.close\n",
      "dest.close()\n",
      "#prefixes = dict(list(xmldoc.iter()).prefix)\n",
      "#print prefixes"
     ],
     "language": "python",
     "metadata": {},
     "outputs": [
      {
       "output_type": "stream",
       "stream": "stdout",
       "text": [
        "cik x\n",
        "x,10-K,2015-02-24,2315,575,147"
       ]
      },
      {
       "output_type": "stream",
       "stream": "stdout",
       "text": [
        "\n",
        "x,10-Q,2014-10-29,1251,297,85"
       ]
      },
      {
       "output_type": "stream",
       "stream": "stdout",
       "text": [
        "\n",
        "x,10-Q,2014-07-30,1129,284,77"
       ]
      },
      {
       "output_type": "stream",
       "stream": "stdout",
       "text": [
        "\n",
        "x,10-Q,2014-04-30,824,266,67"
       ]
      },
      {
       "output_type": "stream",
       "stream": "stdout",
       "text": [
        "\n",
        "cik 800458\n",
        "800458,10-Q,2015-02-05,581,199,39"
       ]
      },
      {
       "output_type": "stream",
       "stream": "stdout",
       "text": [
        "\n",
        "800458,10-Q,2014-11-06,551,183,40"
       ]
      },
      {
       "output_type": "stream",
       "stream": "stdout",
       "text": [
        "\n",
        "800458,10-Q,2014-08-07,403,170,31"
       ]
      },
      {
       "output_type": "stream",
       "stream": "stdout",
       "text": [
        "\n",
        "800458,10-K,2014-06-06,1360,368,105"
       ]
      },
      {
       "output_type": "stream",
       "stream": "stdout",
       "text": [
        "\n",
        "cik 101199\n",
        "101199,10-K,2015-03-02,2959,475,75"
       ]
      },
      {
       "output_type": "stream",
       "stream": "stdout",
       "text": [
        "\n",
        "101199,10-Q,2014-11-04,1686,230,40"
       ]
      },
      {
       "output_type": "stream",
       "stream": "stdout",
       "text": [
        "\n",
        "101199,10-Q,2014-08-05,1675,221,47"
       ]
      },
      {
       "output_type": "stream",
       "stream": "stdout",
       "text": [
        "\n",
        "101199,10-Q,2014-05-06,1470,216,46"
       ]
      },
      {
       "output_type": "stream",
       "stream": "stdout",
       "text": [
        "\n",
        "cik 1274644\n",
        "1274644,10-K,2015-03-13,835,294,40"
       ]
      },
      {
       "output_type": "stream",
       "stream": "stdout",
       "text": [
        "\n",
        "1274644,10-Q,2014-11-13,553,195,13"
       ]
      },
      {
       "output_type": "stream",
       "stream": "stdout",
       "text": [
        "\n",
        "1274644,10-Q,2014-08-13,477,186,5"
       ]
      },
      {
       "output_type": "stream",
       "stream": "stdout",
       "text": [
        "\n",
        "1274644,10-Q,2014-05-13,486,191,13"
       ]
      },
      {
       "output_type": "stream",
       "stream": "stdout",
       "text": [
        "\n",
        "cik 1556739\n",
        "1556739,10-K,2015-03-16,1418,399,108"
       ]
      },
      {
       "output_type": "stream",
       "stream": "stdout",
       "text": [
        "\n",
        "1556739,10-Q,2014-11-05,718,226,60"
       ]
      },
      {
       "output_type": "stream",
       "stream": "stdout",
       "text": [
        "\n",
        "1556739,10-Q,2014-08-11,693,220,58"
       ]
      },
      {
       "output_type": "stream",
       "stream": "stdout",
       "text": [
        "\n",
        "1556739,10-Q,2014-05-07,532,212,54"
       ]
      },
      {
       "output_type": "stream",
       "stream": "stdout",
       "text": [
        "\n",
        "cik 1363851\n",
        "1363851,10-K,2015-03-02,1909,374,65"
       ]
      },
      {
       "output_type": "stream",
       "stream": "stdout",
       "text": [
        "\n",
        "1363851,10-Q,2014-10-31,1265,213,39"
       ]
      },
      {
       "output_type": "stream",
       "stream": "stdout",
       "text": [
        "\n",
        "1363851,10-Q,2014-08-01,1265,212,37"
       ]
      },
      {
       "output_type": "stream",
       "stream": "stdout",
       "text": [
        "\n",
        "1363851,10-Q,2014-05-02,1004,207,36"
       ]
      },
      {
       "output_type": "stream",
       "stream": "stdout",
       "text": [
        "\n",
        "cik 1403853\n",
        "1403853,10-K,2015-03-16,2160,482,55"
       ]
      },
      {
       "output_type": "stream",
       "stream": "stdout",
       "text": [
        "\n",
        "1403853,10-Q,2014-11-10,1307,239,25"
       ]
      },
      {
       "output_type": "stream",
       "stream": "stdout",
       "text": [
        "\n",
        "1403853,10-Q,2014-08-07,995,240,23"
       ]
      },
      {
       "output_type": "stream",
       "stream": "stdout",
       "text": [
        "\n",
        "1403853,10-Q,2014-05-08,779,229,29"
       ]
      },
      {
       "output_type": "stream",
       "stream": "stdout",
       "text": [
        "\n",
        "cik 1606498\n",
        "1606498,10-K,2015-03-13,862,315,36"
       ]
      },
      {
       "output_type": "stream",
       "stream": "stdout",
       "text": [
        "\n",
        "1606498,10-Q,2014-11-20,437,133,25"
       ]
      },
      {
       "output_type": "stream",
       "stream": "stdout",
       "text": [
        "\n",
        "cik 1300514"
       ]
      },
      {
       "output_type": "stream",
       "stream": "stdout",
       "text": [
        "\n",
        "1300514,10-K,2015-02-27,2672,433,149"
       ]
      },
      {
       "output_type": "stream",
       "stream": "stdout",
       "text": [
        "\n",
        "1300514,10-Q,2014-11-05,1798,197,71"
       ]
      },
      {
       "output_type": "stream",
       "stream": "stdout",
       "text": [
        "\n",
        "1300514,10-Q,2014-08-07,1766,197,77"
       ]
      },
      {
       "output_type": "stream",
       "stream": "stdout",
       "text": [
        "\n",
        "1300514,10-Q,2014-05-07,1321,188,81"
       ]
      },
      {
       "output_type": "stream",
       "stream": "stdout",
       "text": [
        "\n",
        "cik 1077771\n",
        "1077771,10-K,2015-02-23,3318,584,252"
       ]
      },
      {
       "output_type": "stream",
       "stream": "stdout",
       "text": [
        "\n",
        "1077771,10-Q,2014-11-07,3125,395,201"
       ]
      },
      {
       "output_type": "stream",
       "stream": "stdout",
       "text": [
        "\n",
        "1077771,10-Q,2014-08-05,3061,392,201"
       ]
      },
      {
       "output_type": "stream",
       "stream": "stdout",
       "text": [
        "\n",
        "1077771,10-Q,2014-05-07,2792,349,177"
       ]
      },
      {
       "output_type": "stream",
       "stream": "stdout",
       "text": [
        "\n",
        "cik 1316625\n",
        "1316625,10-Q,2015-01-30,958,305,44"
       ]
      },
      {
       "output_type": "stream",
       "stream": "stdout",
       "text": [
        "\n",
        "1316625,10-Q,2014-10-31,703,269,36"
       ]
      },
      {
       "output_type": "stream",
       "stream": "stdout",
       "text": [
        "\n",
        "1316625,10-K,2014-09-08,1655,445,83"
       ]
      },
      {
       "output_type": "stream",
       "stream": "stdout",
       "text": [
        "\n",
        "1316625,10-Q,2014-05-02,936,295,45"
       ]
      },
      {
       "output_type": "stream",
       "stream": "stdout",
       "text": [
        "\n",
        "cik 1469134\n",
        "1469134,10-K,2015-03-13,1901,363,116"
       ]
      },
      {
       "output_type": "stream",
       "stream": "stdout",
       "text": [
        "\n",
        "1469134,10-Q,2014-11-13,1897,301,92"
       ]
      },
      {
       "output_type": "stream",
       "stream": "stdout",
       "text": [
        "\n",
        "1469134,10-Q,2014-08-13,2308,310,103"
       ]
      },
      {
       "output_type": "stream",
       "stream": "stdout",
       "text": [
        "\n",
        "1469134,10-Q,2014-05-14,1923,299,102"
       ]
      },
      {
       "output_type": "stream",
       "stream": "stdout",
       "text": [
        "\n",
        "cik 1024305\n",
        "1024305,10-Q,2015-02-05,1233,303,53"
       ]
      },
      {
       "output_type": "stream",
       "stream": "stdout",
       "text": [
        "\n",
        "1024305,10-Q,2014-11-06,964,294,49"
       ]
      },
      {
       "output_type": "stream",
       "stream": "stdout",
       "text": [
        "\n",
        "1024305,10-K,2014-08-28,2418,572,113"
       ]
      },
      {
       "output_type": "stream",
       "stream": "stdout",
       "text": [
        "\n",
        "1024305,10-Q,2014-05-14,1227,319,70"
       ]
      },
      {
       "output_type": "stream",
       "stream": "stdout",
       "text": [
        "\n",
        "cik 799288\n",
        "799288,10-Q,2014-12-10,659,164,20"
       ]
      },
      {
       "output_type": "stream",
       "stream": "stdout",
       "text": [
        "\n",
        "799288,10-Q,2014-09-10,659,163,19"
       ]
      },
      {
       "output_type": "stream",
       "stream": "stdout",
       "text": [
        "\n",
        "799288,10-Q,2014-06-12,483,158,22"
       ]
      },
      {
       "output_type": "stream",
       "stream": "stdout",
       "text": [
        "\n",
        "cik 846913"
       ]
      },
      {
       "output_type": "stream",
       "stream": "stdout",
       "text": [
        "\n",
        "846913,10-K,2015-03-16,1156,363,26"
       ]
      },
      {
       "output_type": "stream",
       "stream": "stdout",
       "text": [
        "\n",
        "846913,10-Q,2014-11-06,567,205,18"
       ]
      },
      {
       "output_type": "stream",
       "stream": "stdout",
       "text": [
        "\n",
        "846913,10-Q,2014-08-11,522,192,21"
       ]
      },
      {
       "output_type": "stream",
       "stream": "stdout",
       "text": [
        "\n",
        "846913,10-Q,2014-05-12,391,172,21"
       ]
      },
      {
       "output_type": "stream",
       "stream": "stdout",
       "text": [
        "\n",
        "cik 9984\n",
        "9984,10-K,2015-02-23,1855,472,113"
       ]
      },
      {
       "output_type": "stream",
       "stream": "stdout",
       "text": [
        "\n",
        "9984,10-Q,2014-10-27,825,214,49"
       ]
      },
      {
       "output_type": "stream",
       "stream": "stdout",
       "text": [
        "\n",
        "9984,10-Q,2014-07-28,799,209,40"
       ]
      },
      {
       "output_type": "stream",
       "stream": "stdout",
       "text": [
        "\n",
        "9984,10-Q,2014-04-28,600,205,40"
       ]
      },
      {
       "output_type": "stream",
       "stream": "stdout",
       "text": [
        "\n",
        "cik 827230\n",
        "827230,10-Q,2014-11-14,608,159,35"
       ]
      },
      {
       "output_type": "stream",
       "stream": "stdout",
       "text": [
        "\n",
        "827230,10-Q,2014-08-14,580,155,35"
       ]
      },
      {
       "output_type": "stream",
       "stream": "stdout",
       "text": [
        "\n",
        "827230,10-Q,2014-05-15,496,153,33"
       ]
      },
      {
       "output_type": "stream",
       "stream": "stdout",
       "text": [
        "\n",
        "827230,10-K,2014-03-31,962,256,94"
       ]
      },
      {
       "output_type": "stream",
       "stream": "stdout",
       "text": [
        "\n",
        "cik 1065049\n",
        "1065049,10-K,2014-03-06,2046,354,127"
       ]
      },
      {
       "output_type": "stream",
       "stream": "stdout",
       "text": [
        "\n",
        "1065049,10-Q,2013-11-12,1633,194,89"
       ]
      },
      {
       "output_type": "stream",
       "stream": "stdout",
       "text": [
        "\n",
        "1065049,10-Q,2013-08-05,1582,183,84"
       ]
      },
      {
       "output_type": "stream",
       "stream": "stdout",
       "text": [
        "\n",
        "1065049,10-Q,2013-05-02,1173,170,75"
       ]
      },
      {
       "output_type": "stream",
       "stream": "stdout",
       "text": [
        "\n",
        "cik 92380\n",
        "92380,10-K,2015-02-06,1783,404,136"
       ]
      },
      {
       "output_type": "stream",
       "stream": "stdout",
       "text": [
        "\n",
        "92380,10-Q,2014-10-29,1042,196,64"
       ]
      },
      {
       "output_type": "stream",
       "stream": "stdout",
       "text": [
        "\n",
        "92380,10-Q,2014-07-30,1028,197,68"
       ]
      },
      {
       "output_type": "stream",
       "stream": "stdout",
       "text": [
        "\n",
        "92380,10-Q,2014-05-01,804,194,63"
       ]
      },
      {
       "output_type": "stream",
       "stream": "stdout",
       "text": [
        "\n",
        "cik 9092\n",
        "9092,10-K,2015-03-04,1069,334,35"
       ]
      },
      {
       "output_type": "stream",
       "stream": "stdout",
       "text": [
        "\n",
        "9092,10-Q,2014-10-31,343,126,3"
       ]
      },
      {
       "output_type": "stream",
       "stream": "stdout",
       "text": [
        "\n",
        "9092,10-Q,2014-07-24,334,120,2"
       ]
      },
      {
       "output_type": "stream",
       "stream": "stdout",
       "text": [
        "\n",
        "9092,10-Q,2014-04-23,253,117,2"
       ]
      },
      {
       "output_type": "stream",
       "stream": "stdout",
       "text": [
        "\n",
        "cik 1585064\n",
        "1585064,10-Q,2015-02-04,1679,300,108"
       ]
      },
      {
       "output_type": "stream",
       "stream": "stdout",
       "text": [
        "\n",
        "1585064,10-K,2014-11-19,2554,422,146"
       ]
      },
      {
       "output_type": "stream",
       "stream": "stdout",
       "text": [
        "\n",
        "1585064,10-Q,2014-08-06,1942,275,119"
       ]
      },
      {
       "output_type": "stream",
       "stream": "stdout",
       "text": [
        "\n",
        "1585064,10-Q,2014-05-08,1805,271,113"
       ]
      },
      {
       "output_type": "stream",
       "stream": "stdout",
       "text": [
        "\n",
        "cik 75679\n",
        "75679,10-K,2015-03-05,1150,353,66"
       ]
      },
      {
       "output_type": "stream",
       "stream": "stdout",
       "text": [
        "\n",
        "75679,10-Q,2014-11-06,572,226,26"
       ]
      },
      {
       "output_type": "stream",
       "stream": "stdout",
       "text": [
        "\n",
        "75679,10-Q,2014-08-07,563,225,25"
       ]
      },
      {
       "output_type": "stream",
       "stream": "stdout",
       "text": [
        "\n",
        "75679,10-Q,2014-05-08,452,223,25"
       ]
      },
      {
       "output_type": "stream",
       "stream": "stdout",
       "text": [
        "\n",
        "cik 1483510\n",
        "1483510,10-K,2015-03-27,764,291,50"
       ]
      },
      {
       "output_type": "stream",
       "stream": "stdout",
       "text": [
        "\n",
        "1483510,10-Q,2014-12-10,1142,187,21"
       ]
      },
      {
       "output_type": "stream",
       "stream": "stdout",
       "text": [
        "\n",
        "1483510,10-Q,2014-09-10,1145,184,27"
       ]
      },
      {
       "output_type": "stream",
       "stream": "stdout",
       "text": [
        "\n",
        "1483510,10-Q,2014-06-11,908,173,25"
       ]
      },
      {
       "output_type": "stream",
       "stream": "stdout",
       "text": [
        "\n",
        "cik 1393883\n",
        "1393883,10-K,2015-02-10,1413,329,51"
       ]
      },
      {
       "output_type": "stream",
       "stream": "stdout",
       "text": [
        "\n",
        "1393883,10-Q,2014-10-30,915,225,35"
       ]
      },
      {
       "output_type": "stream",
       "stream": "stdout",
       "text": [
        "\n",
        "1393883,10-Q,2014-07-30,912,218,30"
       ]
      },
      {
       "output_type": "stream",
       "stream": "stdout",
       "text": [
        "\n",
        "1393883,10-Q,2014-04-30,700,216,30"
       ]
      },
      {
       "output_type": "stream",
       "stream": "stdout",
       "text": [
        "\n",
        "cik 1287151\n",
        "1287151,10-K,2015-03-04,2350,427,101"
       ]
      },
      {
       "output_type": "stream",
       "stream": "stdout",
       "text": [
        "\n",
        "1287151,10-Q,2014-11-03,1514,201,46"
       ]
      },
      {
       "output_type": "stream",
       "stream": "stdout",
       "text": [
        "\n",
        "1287151,10-Q,2014-08-05,1257,196,43"
       ]
      },
      {
       "output_type": "stream",
       "stream": "stdout",
       "text": [
        "\n",
        "1287151,10-Q,2014-05-08,970,188,46"
       ]
      },
      {
       "output_type": "stream",
       "stream": "stdout",
       "text": [
        "\n",
        "cik 1478484\n",
        "1478484,10-K,2015-02-24,903,296,26"
       ]
      },
      {
       "output_type": "stream",
       "stream": "stdout",
       "text": [
        "\n",
        "1478484,10-Q,2014-11-06,459,166,22"
       ]
      },
      {
       "output_type": "stream",
       "stream": "stdout",
       "text": [
        "\n",
        "1478484,10-Q,2014-08-07,433,159,17"
       ]
      },
      {
       "output_type": "stream",
       "stream": "stdout",
       "text": [
        "\n",
        "1478484,10-Q,2014-05-09,325,149,9"
       ]
      },
      {
       "output_type": "stream",
       "stream": "stdout",
       "text": [
        "\n",
        "cik 908255\n",
        "908255,10-K,2015-02-12,1913,536,82"
       ]
      },
      {
       "output_type": "stream",
       "stream": "stdout",
       "text": [
        "\n",
        "908255,10-Q,2014-10-30,917,267,38"
       ]
      },
      {
       "output_type": "stream",
       "stream": "stdout",
       "text": [
        "\n",
        "908255,10-Q,2014-07-31,838,263,38"
       ]
      },
      {
       "output_type": "stream",
       "stream": "stdout",
       "text": [
        "\n",
        "908255,10-Q,2014-05-01,673,266,38"
       ]
      },
      {
       "output_type": "stream",
       "stream": "stdout",
       "text": [
        "\n",
        "cik 854701\n",
        "854701,10-Q,2015-02-05,509,229,14"
       ]
      },
      {
       "output_type": "stream",
       "stream": "stdout",
       "text": [
        "\n",
        "854701,10-K,2014-12-11,1399,451,47"
       ]
      },
      {
       "output_type": "stream",
       "stream": "stdout",
       "text": [
        "\n",
        "854701,10-Q,2014-08-07,710,235,18"
       ]
      },
      {
       "output_type": "stream",
       "stream": "stdout",
       "text": [
        "\n",
        "854701,10-Q,2014-05-08,706,234,18"
       ]
      },
      {
       "output_type": "stream",
       "stream": "stdout",
       "text": [
        "\n",
        "cik 51253\n",
        "51253,10-K,2015-03-02,1892,441,117"
       ]
      },
      {
       "output_type": "stream",
       "stream": "stdout",
       "text": [
        "\n",
        "51253,10-Q,2014-11-04,689,207,31"
       ]
      },
      {
       "output_type": "stream",
       "stream": "stdout",
       "text": [
        "\n",
        "51253,10-Q,2014-08-05,689,206,30"
       ]
      },
      {
       "output_type": "stream",
       "stream": "stdout",
       "text": [
        "\n",
        "51253,10-Q,2014-05-06,545,202,35"
       ]
      },
      {
       "output_type": "stream",
       "stream": "stdout",
       "text": [
        "\n",
        "cik 1555177\n",
        "1555177,10-K,2015-03-02,932,295,114"
       ]
      },
      {
       "output_type": "stream",
       "stream": "stdout",
       "text": [
        "\n",
        "1555177,10-Q,2014-11-07,721,234,87"
       ]
      },
      {
       "output_type": "stream",
       "stream": "stdout",
       "text": [
        "\n",
        "1555177,10-Q,2014-08-08,689,234,69"
       ]
      },
      {
       "output_type": "stream",
       "stream": "stdout",
       "text": [
        "\n",
        "1555177,10-Q,2014-05-09,425,177,41"
       ]
      },
      {
       "output_type": "stream",
       "stream": "stdout",
       "text": [
        "\n",
        "cik 1041379\n",
        "1041379,10-K,2015-02-26,1075,364,78"
       ]
      },
      {
       "output_type": "stream",
       "stream": "stdout",
       "text": [
        "\n",
        "1041379,10-Q,2014-11-12,453,163,22"
       ]
      },
      {
       "output_type": "stream",
       "stream": "stdout",
       "text": [
        "\n",
        "1041379,10-Q,2014-08-20,448,161,22"
       ]
      },
      {
       "output_type": "stream",
       "stream": "stdout",
       "text": [
        "\n",
        "1041379,10-Q,2014-05-28,326,148,20"
       ]
      },
      {
       "output_type": "stream",
       "stream": "stdout",
       "text": [
        "\n",
        "cik 729237\n",
        "729237,10-K,2015-02-25,3141,526,180"
       ]
      },
      {
       "output_type": "stream",
       "stream": "stdout",
       "text": [
        "\n",
        "729237,10-Q,2014-10-30,1073,273,64"
       ]
      },
      {
       "output_type": "stream",
       "stream": "stdout",
       "text": [
        "\n",
        "729237,10-Q,2014-08-07,1045,270,62"
       ]
      },
      {
       "output_type": "stream",
       "stream": "stdout",
       "text": [
        "\n",
        "729237,10-Q,2014-05-12,846,257,58"
       ]
      },
      {
       "output_type": "stream",
       "stream": "stdout",
       "text": [
        "\n",
        "cik 1174922\n",
        "1174922,10-K,2015-03-02,1816,425,130"
       ]
      },
      {
       "output_type": "stream",
       "stream": "stdout",
       "text": [
        "\n",
        "1174922,10-Q,2014-11-07,825,223,71"
       ]
      },
      {
       "output_type": "stream",
       "stream": "stdout",
       "text": [
        "\n",
        "1174922,10-Q,2014-08-08,821,223,74"
       ]
      },
      {
       "output_type": "stream",
       "stream": "stdout",
       "text": [
        "\n",
        "1174922,10-Q,2014-05-09,663,215,72"
       ]
      },
      {
       "output_type": "stream",
       "stream": "stdout",
       "text": [
        "\n",
        "cik 1475922\n",
        "1475922,10-K,2015-02-26,1863,460,60"
       ]
      },
      {
       "output_type": "stream",
       "stream": "stdout",
       "text": [
        "\n",
        "1475922,10-Q,2014-11-05,1054,261,24"
       ]
      },
      {
       "output_type": "stream",
       "stream": "stdout",
       "text": [
        "\n",
        "1475922,10-Q,2014-08-07,1072,257,24"
       ]
      },
      {
       "output_type": "stream",
       "stream": "stdout",
       "text": [
        "\n",
        "1475922,10-Q,2014-05-06,864,252,23"
       ]
      },
      {
       "output_type": "stream",
       "stream": "stdout",
       "text": [
        "\n",
        "cik 1078075\n",
        "1078075,10-Q,2015-01-27,730,216,21"
       ]
      },
      {
       "output_type": "stream",
       "stream": "stdout",
       "text": [
        "\n",
        "1078075,10-Q,2014-10-28,723,212,19"
       ]
      },
      {
       "output_type": "stream",
       "stream": "stdout",
       "text": [
        "\n",
        "1078075,10-Q,2014-07-29,579,203,19"
       ]
      },
      {
       "output_type": "stream",
       "stream": "stdout",
       "text": [
        "\n",
        "1078075,10-K,2014-05-20,1253,383,44"
       ]
      },
      {
       "output_type": "stream",
       "stream": "stdout",
       "text": [
        "\n",
        "cik 1210708\n",
        "1210708,10-K,2015-02-26,1599,327,71"
       ]
      },
      {
       "output_type": "stream",
       "stream": "stdout",
       "text": [
        "\n",
        "1210708,10-Q,2014-11-10,1127,217,45"
       ]
      },
      {
       "output_type": "stream",
       "stream": "stdout",
       "text": [
        "\n",
        "1210708,10-Q,2014-08-04,980,199,52"
       ]
      },
      {
       "output_type": "stream",
       "stream": "stdout",
       "text": [
        "\n",
        "1210708,10-Q,2014-05-01,696,189,36"
       ]
      },
      {
       "output_type": "stream",
       "stream": "stdout",
       "text": [
        "\n",
        "cik 36047\n",
        "36047,10-K,2015-02-26,2729,455,97"
       ]
      },
      {
       "output_type": "stream",
       "stream": "stdout",
       "text": [
        "\n",
        "36047,10-Q,2014-10-24,2086,313,51"
       ]
      },
      {
       "output_type": "stream",
       "stream": "stdout",
       "text": [
        "\n",
        "36047,10-Q,2014-07-25,2020,306,54"
       ]
      },
      {
       "output_type": "stream",
       "stream": "stdout",
       "text": [
        "\n",
        "36047,10-Q,2014-04-30,1573,297,48"
       ]
      },
      {
       "output_type": "stream",
       "stream": "stdout",
       "text": [
        "\n",
        "cik 353569\n",
        "353569,10-K,2015-02-24,1148,384,78"
       ]
      },
      {
       "output_type": "stream",
       "stream": "stdout",
       "text": [
        "\n",
        "353569,10-Q,2014-10-24,514,193,26"
       ]
      },
      {
       "output_type": "stream",
       "stream": "stdout",
       "text": [
        "\n",
        "353569,10-Q,2014-07-24,485,183,28"
       ]
      },
      {
       "output_type": "stream",
       "stream": "stdout",
       "text": [
        "\n",
        "353569,10-Q,2014-04-25,407,181,30"
       ]
      },
      {
       "output_type": "stream",
       "stream": "stdout",
       "text": [
        "\n",
        "cik 1553467\n",
        "cik 104894"
       ]
      },
      {
       "output_type": "stream",
       "stream": "stdout",
       "text": [
        "\n",
        "104894,10-K,2015-03-02,2029,322,116"
       ]
      },
      {
       "output_type": "stream",
       "stream": "stdout",
       "text": [
        "\n",
        "104894,10-Q,2014-10-31,649,176,44"
       ]
      },
      {
       "output_type": "stream",
       "stream": "stdout",
       "text": [
        "\n",
        "104894,10-Q,2014-08-05,640,171,48"
       ]
      },
      {
       "output_type": "stream",
       "stream": "stdout",
       "text": [
        "\n",
        "104894,10-Q,2014-05-08,483,168,44"
       ]
      },
      {
       "output_type": "stream",
       "stream": "stdout",
       "text": [
        "\n",
        "cik 1585101\n",
        "1585101,10-K,2015-03-25,375,184,46"
       ]
      },
      {
       "output_type": "stream",
       "stream": "stdout",
       "text": [
        "\n",
        "1585101,10-Q,2014-11-10,230,67,23"
       ]
      },
      {
       "output_type": "stream",
       "stream": "stdout",
       "text": [
        "\n",
        "cik 1080034\n",
        "1080034,10-Q,2014-11-07,623,191,24"
       ]
      },
      {
       "output_type": "stream",
       "stream": "stdout",
       "text": [
        "\n",
        "1080034,10-Q,2014-08-08,611,187,21"
       ]
      },
      {
       "output_type": "stream",
       "stream": "stdout",
       "text": [
        "\n",
        "1080034,10-Q,2014-05-09,485,185,24"
       ]
      },
      {
       "output_type": "stream",
       "stream": "stdout",
       "text": [
        "\n",
        "1080034,10-K,2014-03-03,1261,374,69"
       ]
      },
      {
       "output_type": "stream",
       "stream": "stdout",
       "text": [
        "\n",
        "cik 1559053\n",
        "1559053,10-K,2015-03-13,732,255,62"
       ]
      },
      {
       "output_type": "stream",
       "stream": "stdout",
       "text": [
        "\n",
        "1559053,10-Q,2014-11-04,493,182,48"
       ]
      },
      {
       "output_type": "stream",
       "stream": "stdout",
       "text": [
        "\n",
        "1559053,10-Q,2014-08-05,490,182,47"
       ]
      },
      {
       "output_type": "stream",
       "stream": "stdout",
       "text": [
        "\n",
        "1559053,10-Q,2014-05-05,399,175,42"
       ]
      },
      {
       "output_type": "stream",
       "stream": "stdout",
       "text": [
        "\n",
        "cik 715957\n",
        "715957,10-K,2015-02-27,6358,614,339"
       ]
      },
      {
       "output_type": "stream",
       "stream": "stdout",
       "text": [
        "\n",
        "715957,10-Q,2014-11-03,3290,358,150"
       ]
      },
      {
       "output_type": "stream",
       "stream": "stdout",
       "text": [
        "\n",
        "715957,10-Q,2014-07-30,3191,337,155"
       ]
      },
      {
       "output_type": "stream",
       "stream": "stdout",
       "text": [
        "\n",
        "715957,10-Q,2014-04-30,1886,297,113"
       ]
      },
      {
       "output_type": "stream",
       "stream": "stdout",
       "text": [
        "\n",
        "cik 1031029\n",
        "1031029,10-K,2015-03-06,826,336,37"
       ]
      },
      {
       "output_type": "stream",
       "stream": "stdout",
       "text": [
        "\n",
        "1031029,10-Q,2014-11-14,400,159,8"
       ]
      },
      {
       "output_type": "stream",
       "stream": "stdout",
       "text": [
        "\n",
        "1031029,10-Q,2014-08-13,405,162,8"
       ]
      },
      {
       "output_type": "stream",
       "stream": "stdout",
       "text": [
        "\n",
        "1031029,10-Q,2014-05-09,339,157,7"
       ]
      },
      {
       "output_type": "stream",
       "stream": "stdout",
       "text": [
        "\n",
        "cik 1059272\n",
        "1059272,10-Q,2015-02-12,459,138,24"
       ]
      },
      {
       "output_type": "stream",
       "stream": "stdout",
       "text": [
        "\n",
        "1059272,10-Q,2014-11-13,388,139,24"
       ]
      },
      {
       "output_type": "stream",
       "stream": "stdout",
       "text": [
        "\n",
        "1059272,10-K,2014-09-18,1046,332,59"
       ]
      },
      {
       "output_type": "stream",
       "stream": "stdout",
       "text": [
        "\n",
        "1059272,10-Q,2014-05-15,499,151,27"
       ]
      },
      {
       "output_type": "stream",
       "stream": "stdout",
       "text": [
        "\n",
        "cik 1081316\n",
        "1081316,10-K,2015-03-02,3529,433,135"
       ]
      },
      {
       "output_type": "stream",
       "stream": "stdout",
       "text": [
        "\n",
        "1081316,10-Q,2014-11-07,1219,207,53"
       ]
      },
      {
       "output_type": "stream",
       "stream": "stdout",
       "text": [
        "\n",
        "1081316,10-Q,2014-08-01,1238,205,50"
       ]
      },
      {
       "output_type": "stream",
       "stream": "stdout",
       "text": [
        "\n",
        "1081316,10-Q,2014-05-02,981,200,47"
       ]
      },
      {
       "output_type": "stream",
       "stream": "stdout",
       "text": [
        "\n",
        "cik 873044\n",
        "873044,10-K,2015-02-27,1238,383,61"
       ]
      },
      {
       "output_type": "stream",
       "stream": "stdout",
       "text": [
        "\n",
        "873044,10-Q,2014-11-07,644,189,29"
       ]
      },
      {
       "output_type": "stream",
       "stream": "stdout",
       "text": [
        "\n",
        "873044,10-Q,2014-08-06,630,188,28"
       ]
      },
      {
       "output_type": "stream",
       "stream": "stdout",
       "text": [
        "\n",
        "873044,10-Q,2014-05-02,480,188,31"
       ]
      },
      {
       "output_type": "stream",
       "stream": "stdout",
       "text": [
        "\n",
        "cik 944809\n",
        "944809,10-K,2015-02-27,1891,460,138"
       ]
      },
      {
       "output_type": "stream",
       "stream": "stdout",
       "text": [
        "\n",
        "944809,10-Q,2014-11-07,1203,286,93"
       ]
      },
      {
       "output_type": "stream",
       "stream": "stdout",
       "text": [
        "\n",
        "944809,10-Q,2014-08-11,1192,283,96"
       ]
      },
      {
       "output_type": "stream",
       "stream": "stdout",
       "text": [
        "\n",
        "944809,10-Q,2014-05-09,1028,282,88"
       ]
      },
      {
       "output_type": "stream",
       "stream": "stdout",
       "text": [
        "\n",
        "cik 1408278\n",
        "1408278,10-Q,2014-11-14,476,199,18"
       ]
      },
      {
       "output_type": "stream",
       "stream": "stdout",
       "text": [
        "\n",
        "1408278,10-Q,2014-08-14,470,196,16"
       ]
      },
      {
       "output_type": "stream",
       "stream": "stdout",
       "text": [
        "\n",
        "1408278,10-Q,2014-05-15,364,189,10"
       ]
      },
      {
       "output_type": "stream",
       "stream": "stdout",
       "text": [
        "\n",
        "1408278,10-K,2014-03-26,879,288,36"
       ]
      },
      {
       "output_type": "stream",
       "stream": "stdout",
       "text": [
        "\n",
        "cik 65270\n",
        "65270,10-Q,2015-03-05,407,142,12"
       ]
      },
      {
       "output_type": "stream",
       "stream": "stdout",
       "text": [
        "\n",
        "65270,10-Q,2014-12-11,401,140,11"
       ]
      },
      {
       "output_type": "stream",
       "stream": "stdout",
       "text": [
        "\n",
        "65270,10-Q,2014-09-04,310,140,11"
       ]
      },
      {
       "output_type": "stream",
       "stream": "stdout",
       "text": [
        "\n",
        "65270,10-K,2014-06-26,1226,323,51"
       ]
      },
      {
       "output_type": "stream",
       "stream": "stdout",
       "text": [
        "\n",
        "cik 104169\n",
        "104169,10-K,2015-04-01,1241,328,46"
       ]
      },
      {
       "output_type": "stream",
       "stream": "stdout",
       "text": [
        "\n",
        "104169,10-Q,2014-12-01,566,162,22"
       ]
      },
      {
       "output_type": "stream",
       "stream": "stdout",
       "text": [
        "\n",
        "104169,10-Q,2014-09-05,572,162,24"
       ]
      },
      {
       "output_type": "stream",
       "stream": "stdout",
       "text": [
        "\n",
        "104169,10-Q,2014-06-06,464,160,25"
       ]
      },
      {
       "output_type": "stream",
       "stream": "stdout",
       "text": [
        "\n",
        "cik 1532063\n",
        "1532063,10-K,2015-02-23,2739,457,55"
       ]
      },
      {
       "output_type": "stream",
       "stream": "stdout",
       "text": [
        "\n",
        "1532063,10-Q,2014-10-28,1721,216,23"
       ]
      },
      {
       "output_type": "stream",
       "stream": "stdout",
       "text": [
        "\n",
        "1532063,10-Q,2014-07-29,1692,213,29"
       ]
      },
      {
       "output_type": "stream",
       "stream": "stdout",
       "text": [
        "\n",
        "1532063,10-Q,2014-04-29,1288,203,27"
       ]
      },
      {
       "output_type": "stream",
       "stream": "stdout",
       "text": [
        "\n",
        "cik 1111928\n",
        "1111928,10-K,2015-03-02,1066,350,48"
       ]
      },
      {
       "output_type": "stream",
       "stream": "stdout",
       "text": [
        "\n",
        "1111928,10-Q,2014-11-07,494,171,9"
       ]
      },
      {
       "output_type": "stream",
       "stream": "stdout",
       "text": [
        "\n",
        "1111928,10-Q,2014-08-05,502,170,10"
       ]
      },
      {
       "output_type": "stream",
       "stream": "stdout",
       "text": [
        "\n",
        "1111928,10-Q,2014-05-06,414,168,9"
       ]
      },
      {
       "output_type": "stream",
       "stream": "stdout",
       "text": [
        "\n",
        "cik 877890\n",
        "877890,10-K,2015-02-19,1576,446,68"
       ]
      },
      {
       "output_type": "stream",
       "stream": "stdout",
       "text": [
        "\n",
        "877890,10-Q,2014-11-04,943,290,50"
       ]
      },
      {
       "output_type": "stream",
       "stream": "stdout",
       "text": [
        "\n",
        "877890,10-Q,2014-08-05,929,288,49"
       ]
      },
      {
       "output_type": "stream",
       "stream": "stdout",
       "text": [
        "\n",
        "877890,10-Q,2014-05-06,709,259,47"
       ]
      },
      {
       "output_type": "stream",
       "stream": "stdout",
       "text": [
        "\n",
        "cik 1042776\n",
        "1042776,10-K,2015-02-18,2808,317,113"
       ]
      },
      {
       "output_type": "stream",
       "stream": "stdout",
       "text": [
        "\n",
        "1042776,10-Q,2014-10-29,1558,207,74"
       ]
      },
      {
       "output_type": "stream",
       "stream": "stdout",
       "text": [
        "\n",
        "1042776,10-Q,2014-07-30,1518,205,72"
       ]
      },
      {
       "output_type": "stream",
       "stream": "stdout",
       "text": [
        "\n",
        "1042776,10-Q,2014-04-30,1192,198,63"
       ]
      },
      {
       "output_type": "stream",
       "stream": "stdout",
       "text": [
        "\n",
        "cik 97472\n",
        "97472,10-Q,2014-04-04,1143,241,79"
       ]
      },
      {
       "output_type": "stream",
       "stream": "stdout",
       "text": [
        "\n",
        "97472,10-Q,2014-01-09,1134,244,78"
       ]
      },
      {
       "output_type": "stream",
       "stream": "stdout",
       "text": [
        "\n",
        "97472,10-Q,2013-10-04,898,248,78"
       ]
      },
      {
       "output_type": "stream",
       "stream": "stdout",
       "text": [
        "\n",
        "97472,10-K,2013-07-22,1568,375,101"
       ]
      },
      {
       "output_type": "stream",
       "stream": "stdout",
       "text": [
        "\n",
        "cik 829323\n",
        "829323,10-K,2015-02-09,695,267,52"
       ]
      },
      {
       "output_type": "stream",
       "stream": "stdout",
       "text": [
        "\n",
        "829323,10-Q,2014-10-30,489,180,39"
       ]
      },
      {
       "output_type": "stream",
       "stream": "stdout",
       "text": [
        "\n",
        "829323,10-Q,2014-07-31,488,175,50"
       ]
      },
      {
       "output_type": "stream",
       "stream": "stdout",
       "text": [
        "\n",
        "829323,10-Q,2014-04-24,413,177,52"
       ]
      },
      {
       "output_type": "stream",
       "stream": "stdout",
       "text": [
        "\n",
        "cik 891106\n",
        "891106,10-K,2014-02-26,2684,531,111"
       ]
      },
      {
       "output_type": "stream",
       "stream": "stdout",
       "text": [
        "\n",
        "891106,10-Q,2013-11-07,2114,370,71"
       ]
      },
      {
       "output_type": "stream",
       "stream": "stdout",
       "text": [
        "\n",
        "891106,10-Q,2013-08-07,2153,372,76"
       ]
      },
      {
       "output_type": "stream",
       "stream": "stdout",
       "text": [
        "\n",
        "891106,10-Q,2013-05-07,1708,356,71"
       ]
      },
      {
       "output_type": "stream",
       "stream": "stdout",
       "text": [
        "\n",
        "cik 1283699\n",
        "1283699,10-K,2015-02-19,2305,475,62"
       ]
      },
      {
       "output_type": "stream",
       "stream": "stdout",
       "text": [
        "\n",
        "1283699,10-Q,2014-10-28,1500,187,26"
       ]
      },
      {
       "output_type": "stream",
       "stream": "stdout",
       "text": [
        "\n",
        "1283699,10-Q,2014-07-31,1441,175,21"
       ]
      },
      {
       "output_type": "stream",
       "stream": "stdout",
       "text": [
        "\n",
        "1283699,10-Q,2014-05-01,1014,156,14"
       ]
      },
      {
       "output_type": "stream",
       "stream": "stdout",
       "text": [
        "\n",
        "cik 1091735\n",
        "1091735,10-K,2014-02-26,878,262,52"
       ]
      },
      {
       "output_type": "stream",
       "stream": "stdout",
       "text": [
        "\n",
        "1091735,10-Q,2013-10-25,406,151,6"
       ]
      },
      {
       "output_type": "stream",
       "stream": "stdout",
       "text": [
        "\n",
        "1091735,10-Q,2013-07-26,397,150,6"
       ]
      },
      {
       "output_type": "stream",
       "stream": "stdout",
       "text": [
        "\n",
        "1091735,10-Q,2013-04-25,322,147,5"
       ]
      },
      {
       "output_type": "stream",
       "stream": "stdout",
       "text": [
        "\n",
        "cik 1467076\n",
        "1467076,10-K,2015-02-27,5106,445,149"
       ]
      },
      {
       "output_type": "stream",
       "stream": "stdout",
       "text": [
        "\n",
        "1467076,10-Q,2014-11-07,1828,324,116"
       ]
      },
      {
       "output_type": "stream",
       "stream": "stdout",
       "text": [
        "\n",
        "1467076,10-Q,2014-08-08,1763,319,103"
       ]
      },
      {
       "output_type": "stream",
       "stream": "stdout",
       "text": [
        "\n",
        "1467076,10-Q,2014-05-12,1306,296,93"
       ]
      },
      {
       "output_type": "stream",
       "stream": "stdout",
       "text": [
        "\n",
        "cik 922521\n",
        "922521,10-K,2015-02-25,1144,380,77"
       ]
      },
      {
       "output_type": "stream",
       "stream": "stdout",
       "text": [
        "\n",
        "922521,10-Q,2014-11-07,751,225,45"
       ]
      },
      {
       "output_type": "stream",
       "stream": "stdout",
       "text": [
        "\n",
        "922521,10-Q,2014-07-31,720,224,40"
       ]
      },
      {
       "output_type": "stream",
       "stream": "stdout",
       "text": [
        "\n",
        "922521,10-Q,2014-05-08,550,212,38"
       ]
      },
      {
       "output_type": "stream",
       "stream": "stdout",
       "text": [
        "\n",
        "cik 1076195\n",
        "1076195,10-K,2015-03-02,1269,373,119"
       ]
      },
      {
       "output_type": "stream",
       "stream": "stdout",
       "text": [
        "\n",
        "1076195,10-Q,2014-10-30,515,190,39"
       ]
      },
      {
       "output_type": "stream",
       "stream": "stdout",
       "text": [
        "\n",
        "1076195,10-Q,2014-07-30,504,188,41"
       ]
      },
      {
       "output_type": "stream",
       "stream": "stdout",
       "text": [
        "\n",
        "1076195,10-Q,2014-04-29,403,184,33"
       ]
      },
      {
       "output_type": "stream",
       "stream": "stdout",
       "text": [
        "\n",
        "cik 1368765\n",
        "1368765,10-Q,2013-04-16,930,263,103"
       ]
      },
      {
       "output_type": "stream",
       "stream": "stdout",
       "text": [
        "\n",
        "1368765,10-Q,2012-11-14,792,245,101"
       ]
      },
      {
       "output_type": "stream",
       "stream": "stdout",
       "text": [
        "\n",
        "1368765,10-K,2012-10-12,1253,330,167"
       ]
      },
      {
       "output_type": "stream",
       "stream": "stdout",
       "text": [
        "\n",
        "1368765,10-Q,2012-05-15,348,129,6"
       ]
      },
      {
       "output_type": "stream",
       "stream": "stdout",
       "text": [
        "\n",
        "cik 96869\n",
        "96869,10-K,2015-03-16,1432,345,84"
       ]
      },
      {
       "output_type": "stream",
       "stream": "stdout",
       "text": [
        "\n",
        "96869,10-Q,2014-11-07,918,218,60"
       ]
      },
      {
       "output_type": "stream",
       "stream": "stdout",
       "text": [
        "\n",
        "96869,10-Q,2014-08-07,885,208,55"
       ]
      },
      {
       "output_type": "stream",
       "stream": "stdout",
       "text": [
        "\n",
        "96869,10-Q,2014-05-12,803,204,59"
       ]
      },
      {
       "output_type": "stream",
       "stream": "stdout",
       "text": [
        "\n",
        "cik 1600508\n",
        "1600508,10-K,2015-03-13,4992,539,119"
       ]
      },
      {
       "output_type": "stream",
       "stream": "stdout",
       "text": [
        "\n",
        "1600508,10-Q,2014-11-07,2942,300,38"
       ]
      },
      {
       "output_type": "stream",
       "stream": "stdout",
       "text": [
        "\n",
        "1600508,10-Q,2014-08-12,3004,291,40"
       ]
      },
      {
       "output_type": "stream",
       "stream": "stdout",
       "text": [
        "\n",
        "1600508,10-Q,2014-05-09,1798,271,38"
       ]
      },
      {
       "output_type": "stream",
       "stream": "stdout",
       "text": [
        "\n",
        "cik 771497\n",
        "771497,10-Q,2015-03-04,391,156,34"
       ]
      },
      {
       "output_type": "stream",
       "stream": "stdout",
       "text": [
        "\n",
        "771497,10-K,2014-12-17,1515,427,65"
       ]
      },
      {
       "output_type": "stream",
       "stream": "stdout",
       "text": [
        "\n",
        "771497,10-Q,2014-09-04,700,201,55"
       ]
      },
      {
       "output_type": "stream",
       "stream": "stdout",
       "text": [
        "\n",
        "771497,10-Q,2014-06-04,668,193,52"
       ]
      },
      {
       "output_type": "stream",
       "stream": "stdout",
       "text": [
        "\n",
        "cik 880115\n",
        "880115,10-K,2015-02-27,1290,295,105"
       ]
      },
      {
       "output_type": "stream",
       "stream": "stdout",
       "text": [
        "\n",
        "880115,10-Q,2014-10-31,925,194,67"
       ]
      },
      {
       "output_type": "stream",
       "stream": "stdout",
       "text": [
        "\n",
        "880115,10-Q,2014-08-01,923,195,66"
       ]
      },
      {
       "output_type": "stream",
       "stream": "stdout",
       "text": [
        "\n",
        "880115,10-Q,2014-05-02,731,194,65"
       ]
      },
      {
       "output_type": "stream",
       "stream": "stdout",
       "text": [
        "\n",
        "cik 351346\n",
        "351346,10-Q,2015-04-14,1639,230,66"
       ]
      },
      {
       "output_type": "stream",
       "stream": "stdout",
       "text": [
        "\n",
        "351346,10-Q,2015-01-14,1663,230,69"
       ]
      },
      {
       "output_type": "stream",
       "stream": "stdout",
       "text": [
        "\n",
        "351346,10-Q,2014-10-14,1310,225,68"
       ]
      },
      {
       "output_type": "stream",
       "stream": "stdout",
       "text": [
        "\n",
        "351346,10-K,2014-08-20,2478,419,116"
       ]
      },
      {
       "output_type": "stream",
       "stream": "stdout",
       "text": [
        "\n",
        "cik 1440024\n",
        "1440024,10-K,2015-03-02,901,280,37"
       ]
      },
      {
       "output_type": "stream",
       "stream": "stdout",
       "text": [
        "\n",
        "1440024,10-Q,2014-11-06,555,168,17"
       ]
      },
      {
       "output_type": "stream",
       "stream": "stdout",
       "text": [
        "\n",
        "1440024,10-Q,2014-08-07,553,167,20"
       ]
      },
      {
       "output_type": "stream",
       "stream": "stdout",
       "text": [
        "\n",
        "1440024,10-Q,2014-05-08,433,166,18"
       ]
      },
      {
       "output_type": "stream",
       "stream": "stdout",
       "text": [
        "\n",
        "cik 713002\n",
        "713002,10-Q,2013-12-04,460,186,12"
       ]
      },
      {
       "output_type": "stream",
       "stream": "stdout",
       "text": [
        "\n",
        "713002,10-Q,2013-09-10,377,177,12"
       ]
      },
      {
       "output_type": "stream",
       "stream": "stdout",
       "text": [
        "\n",
        "713002,10-K,2013-07-30,929,327,48"
       ]
      },
      {
       "output_type": "stream",
       "stream": "stdout",
       "text": [
        "\n",
        "713002,10-Q,2013-03-12,468,183,9"
       ]
      },
      {
       "output_type": "stream",
       "stream": "stdout",
       "text": [
        "\n",
        "cik 45947\n",
        "45947,10-K,2015-02-27,3197,417,107"
       ]
      },
      {
       "output_type": "stream",
       "stream": "stdout",
       "text": [
        "\n",
        "45947,10-Q,2014-10-29,3335,329,101"
       ]
      },
      {
       "output_type": "stream",
       "stream": "stdout",
       "text": [
        "\n",
        "45947,10-Q,2014-07-31,3409,272,194"
       ]
      },
      {
       "output_type": "stream",
       "stream": "stdout",
       "text": [
        "\n",
        "45947,10-Q,2014-05-02,2705,270,193"
       ]
      },
      {
       "output_type": "stream",
       "stream": "stdout",
       "text": [
        "\n",
        "cik 1468010\n",
        "1468010,10-K,2015-03-19,2252,270,137"
       ]
      },
      {
       "output_type": "stream",
       "stream": "stdout",
       "text": [
        "\n",
        "1468010,10-Q,2014-11-13,1394,221,103"
       ]
      },
      {
       "output_type": "stream",
       "stream": "stdout",
       "text": [
        "\n",
        "1468010,10-Q,2014-08-13,1358,221,102"
       ]
      },
      {
       "output_type": "stream",
       "stream": "stdout",
       "text": [
        "\n",
        "1468010,10-K,2014-03-27,2672,236,129"
       ]
      },
      {
       "output_type": "stream",
       "stream": "stdout",
       "text": [
        "\n",
        "cik 1581068\n",
        "1581068,10-K,2015-02-19,6153,297,109"
       ]
      },
      {
       "output_type": "stream",
       "stream": "stdout",
       "text": [
        "\n",
        "1581068,10-Q,2014-11-04,652,209,79"
       ]
      },
      {
       "output_type": "stream",
       "stream": "stdout",
       "text": [
        "\n",
        "1581068,10-Q,2014-08-05,639,205,71"
       ]
      },
      {
       "output_type": "stream",
       "stream": "stdout",
       "text": [
        "\n",
        "1581068,10-Q,2014-05-07,498,202,73"
       ]
      },
      {
       "output_type": "stream",
       "stream": "stdout",
       "text": [
        "\n",
        "cik 1307748\n",
        "1307748,10-K,2015-03-27,3400,330,221"
       ]
      },
      {
       "output_type": "stream",
       "stream": "stdout",
       "text": [
        "\n",
        "1307748,10-Q,2014-11-07,1167,244,148"
       ]
      },
      {
       "output_type": "stream",
       "stream": "stdout",
       "text": [
        "\n",
        "1307748,10-Q,2014-08-14,1069,232,139"
       ]
      },
      {
       "output_type": "stream",
       "stream": "stdout",
       "text": [
        "\n",
        "1307748,10-Q,2014-05-13,823,237,142"
       ]
      },
      {
       "output_type": "stream",
       "stream": "stdout",
       "text": [
        "\n",
        "cik 1169445\n",
        "1169445,10-K,2015-03-13,843,249,52"
       ]
      },
      {
       "output_type": "stream",
       "stream": "stdout",
       "text": [
        "\n",
        "1169445,10-Q,2014-11-07,646,193,45"
       ]
      },
      {
       "output_type": "stream",
       "stream": "stdout",
       "text": [
        "\n",
        "1169445,10-Q,2014-08-08,622,190,44"
       ]
      },
      {
       "output_type": "stream",
       "stream": "stdout",
       "text": [
        "\n",
        "1169445,10-Q,2014-05-08,537,181,43"
       ]
      },
      {
       "output_type": "stream",
       "stream": "stdout",
       "text": [
        "\n",
        "cik 1044590\n",
        "1044590,10-Q,2013-08-08,818,204,26"
       ]
      },
      {
       "output_type": "stream",
       "stream": "stdout",
       "text": [
        "\n",
        "1044590,10-Q,2013-05-03,571,196,22"
       ]
      },
      {
       "output_type": "stream",
       "stream": "stdout",
       "text": [
        "\n",
        "1044590,10-K,2013-03-11,1848,439,100"
       ]
      },
      {
       "output_type": "stream",
       "stream": "stdout",
       "text": [
        "\n",
        "1044590,10-Q,2012-11-09,797,239,34"
       ]
      },
      {
       "output_type": "stream",
       "stream": "stdout",
       "text": [
        "\n",
        "cik 880460\n",
        "880460,10-Q,2014-12-16,451,170,31"
       ]
      },
      {
       "output_type": "stream",
       "stream": "stdout",
       "text": [
        "\n",
        "880460,10-Q,2014-09-15,429,162,31"
       ]
      },
      {
       "output_type": "stream",
       "stream": "stdout",
       "text": [
        "\n",
        "880460,10-Q,2014-06-16,386,166,32"
       ]
      },
      {
       "output_type": "stream",
       "stream": "stdout",
       "text": [
        "\n",
        "880460,10-K,2014-05-01,789,336,85"
       ]
      },
      {
       "output_type": "stream",
       "stream": "stdout",
       "text": [
        "\n",
        "cik 902274\n",
        "902274,10-Q,2014-11-05,1123,233,54"
       ]
      },
      {
       "output_type": "stream",
       "stream": "stdout",
       "text": [
        "\n",
        "902274,10-K,2014-03-12,2691,473,122"
       ]
      },
      {
       "output_type": "stream",
       "stream": "stdout",
       "text": [
        "\n",
        "902274,10-Q,2013-11-08,1867,232,73"
       ]
      },
      {
       "output_type": "stream",
       "stream": "stdout",
       "text": [
        "\n",
        "902274,10-Q,2013-08-09,1847,228,73"
       ]
      },
      {
       "output_type": "stream",
       "stream": "stdout",
       "text": [
        "\n",
        "cik 861459\n",
        "861459,10-K,2015-02-27,1544,376,110"
       ]
      },
      {
       "output_type": "stream",
       "stream": "stdout",
       "text": [
        "\n",
        "861459,10-Q,2014-11-03,1129,181,57"
       ]
      },
      {
       "output_type": "stream",
       "stream": "stdout",
       "text": [
        "\n",
        "861459,10-Q,2014-08-01,1172,181,65"
       ]
      },
      {
       "output_type": "stream",
       "stream": "stdout",
       "text": [
        "\n",
        "861459,10-Q,2014-04-30,873,170,65"
       ]
      },
      {
       "output_type": "stream",
       "stream": "stdout",
       "text": [
        "\n",
        "cik 1571117\n",
        "1571117,10-K,2015-03-13,1616,356,94"
       ]
      },
      {
       "output_type": "stream",
       "stream": "stdout",
       "text": [
        "\n",
        "1571117,10-Q,2014-11-03,1032,193,49"
       ]
      },
      {
       "output_type": "stream",
       "stream": "stdout",
       "text": [
        "\n",
        "1571117,10-Q,2014-08-08,1004,193,46"
       ]
      },
      {
       "output_type": "stream",
       "stream": "stdout",
       "text": [
        "\n",
        "1571117,10-Q,2014-05-16,434,156,42"
       ]
      },
      {
       "output_type": "stream",
       "stream": "stdout",
       "text": [
        "\n",
        "cik 1094285\n",
        "1094285,10-K,2015-02-26,2072,451,119"
       ]
      },
      {
       "output_type": "stream",
       "stream": "stdout",
       "text": [
        "\n",
        "1094285,10-Q,2014-10-31,744,205,37"
       ]
      },
      {
       "output_type": "stream",
       "stream": "stdout",
       "text": [
        "\n",
        "1094285,10-Q,2014-07-31,727,198,36"
       ]
      },
      {
       "output_type": "stream",
       "stream": "stdout",
       "text": [
        "\n",
        "1094285,10-Q,2014-04-29,521,196,34"
       ]
      },
      {
       "output_type": "stream",
       "stream": "stdout",
       "text": [
        "\n",
        "cik 1312073\n",
        "1312073,10-Q,2015-03-11,582,211,29"
       ]
      },
      {
       "output_type": "stream",
       "stream": "stdout",
       "text": [
        "\n",
        "1312073,10-K,2014-12-17,1364,421,76"
       ]
      },
      {
       "output_type": "stream",
       "stream": "stdout",
       "text": [
        "\n",
        "1312073,10-Q,2014-09-04,803,245,44"
       ]
      },
      {
       "output_type": "stream",
       "stream": "stdout",
       "text": [
        "\n",
        "1312073,10-Q,2014-06-05,735,227,38"
       ]
      },
      {
       "output_type": "stream",
       "stream": "stdout",
       "text": [
        "\n",
        "cik 1339048\n",
        "1339048,10-K,2015-03-02,3125,572,60"
       ]
      },
      {
       "output_type": "stream",
       "stream": "stdout",
       "text": [
        "\n",
        "1339048,10-Q,2014-11-06,2054,368,27"
       ]
      },
      {
       "output_type": "stream",
       "stream": "stdout",
       "text": [
        "\n",
        "1339048,10-Q,2014-08-07,1998,340,51"
       ]
      },
      {
       "output_type": "stream",
       "stream": "stdout",
       "text": [
        "\n",
        "1339048,10-Q,2014-05-12,1529,333,53"
       ]
      },
      {
       "output_type": "stream",
       "stream": "stdout",
       "text": [
        "\n",
        "cik 923603\n",
        "923603,10-K,2015-02-27,3260,327,183"
       ]
      },
      {
       "output_type": "stream",
       "stream": "stdout",
       "text": [
        "\n",
        "923603,10-Q,2014-10-31,2278,215,111"
       ]
      },
      {
       "output_type": "stream",
       "stream": "stdout",
       "text": [
        "\n",
        "923603,10-Q,2014-08-01,2083,192,102"
       ]
      },
      {
       "output_type": "stream",
       "stream": "stdout",
       "text": [
        "\n",
        "923603,10-Q,2014-05-02,1483,182,90"
       ]
      },
      {
       "output_type": "stream",
       "stream": "stdout",
       "text": [
        "\n",
        "cik 1005276\n",
        "1005276,10-Q,2015-02-17,1384,136,93"
       ]
      },
      {
       "output_type": "stream",
       "stream": "stdout",
       "text": [
        "\n",
        "1005276,10-K,2014-12-24,2030,235,160"
       ]
      },
      {
       "output_type": "stream",
       "stream": "stdout",
       "text": [
        "\n",
        "1005276,10-Q,2014-08-13,1669,152,99"
       ]
      },
      {
       "output_type": "stream",
       "stream": "stdout",
       "text": [
        "\n",
        "1005276,10-Q,2014-05-14,1660,150,96"
       ]
      },
      {
       "output_type": "stream",
       "stream": "stdout",
       "text": [
        "\n",
        "cik 1358831\n",
        "1358831,10-K,2015-02-27,980,258,73"
       ]
      },
      {
       "output_type": "stream",
       "stream": "stdout",
       "text": [
        "\n",
        "1358831,10-Q,2014-10-31,805,229,62"
       ]
      },
      {
       "output_type": "stream",
       "stream": "stdout",
       "text": [
        "\n",
        "1358831,10-Q,2014-08-01,797,227,63"
       ]
      },
      {
       "output_type": "stream",
       "stream": "stdout",
       "text": [
        "\n",
        "1358831,10-Q,2014-05-06,598,203,48"
       ]
      },
      {
       "output_type": "stream",
       "stream": "stdout",
       "text": [
        "\n",
        "cik 200406\n",
        "200406,10-K,2015-02-24,1929,446,76"
       ]
      },
      {
       "output_type": "stream",
       "stream": "stdout",
       "text": [
        "\n",
        "200406,10-Q,2014-10-30,870,194,31"
       ]
      },
      {
       "output_type": "stream",
       "stream": "stdout",
       "text": [
        "\n",
        "200406,10-Q,2014-08-01,858,191,32"
       ]
      },
      {
       "output_type": "stream",
       "stream": "stdout",
       "text": [
        "\n",
        "200406,10-Q,2014-05-02,617,189,34"
       ]
      },
      {
       "output_type": "stream",
       "stream": "stdout",
       "text": [
        "\n",
        "cik 1555538\n",
        "1555538,10-K,2015-02-24,960,247,63"
       ]
      },
      {
       "output_type": "stream",
       "stream": "stdout",
       "text": [
        "\n",
        "1555538,10-Q,2014-10-28,638,135,43"
       ]
      },
      {
       "output_type": "stream",
       "stream": "stdout",
       "text": [
        "\n",
        "1555538,10-Q,2014-07-29,609,127,45"
       ]
      },
      {
       "output_type": "stream",
       "stream": "stdout",
       "text": [
        "\n",
        "1555538,10-Q,2014-05-01,449,121,43"
       ]
      },
      {
       "output_type": "stream",
       "stream": "stdout",
       "text": [
        "\n",
        "cik 1316645\n",
        "1316645,10-K,2015-03-31,880,333,64"
       ]
      },
      {
       "output_type": "stream",
       "stream": "stdout",
       "text": [
        "\n",
        "1316645,10-Q,2014-11-14,621,195,30"
       ]
      },
      {
       "output_type": "stream",
       "stream": "stdout",
       "text": [
        "\n",
        "1316645,10-Q,2014-08-14,474,161,17"
       ]
      },
      {
       "output_type": "stream",
       "stream": "stdout",
       "text": [
        "\n",
        "1316645,10-Q,2014-05-09,201,85,13"
       ]
      },
      {
       "output_type": "stream",
       "stream": "stdout",
       "text": [
        "\n",
        "cik 1439288\n",
        "1439288,10-Q,2015-02-04,937,278,41"
       ]
      },
      {
       "output_type": "stream",
       "stream": "stdout",
       "text": [
        "\n",
        "1439288,10-Q,2014-11-06,891,268,34"
       ]
      },
      {
       "output_type": "stream",
       "stream": "stdout",
       "text": [
        "\n",
        "1439288,10-Q,2014-08-06,731,248,28"
       ]
      },
      {
       "output_type": "stream",
       "stream": "stdout",
       "text": [
        "\n",
        "1439288,10-K,2014-05-21,2000,457,96"
       ]
      },
      {
       "output_type": "stream",
       "stream": "stdout",
       "text": [
        "\n",
        "cik 882508\n",
        "882508,10-K,2015-03-05,841,283,31"
       ]
      },
      {
       "output_type": "stream",
       "stream": "stdout",
       "text": [
        "\n",
        "882508,10-Q,2014-11-04,542,208,26"
       ]
      },
      {
       "output_type": "stream",
       "stream": "stdout",
       "text": [
        "\n",
        "882508,10-Q,2014-08-07,560,204,25"
       ]
      },
      {
       "output_type": "stream",
       "stream": "stdout",
       "text": [
        "\n",
        "882508,10-Q,2014-05-07,438,200,24"
       ]
      },
      {
       "output_type": "stream",
       "stream": "stdout",
       "text": [
        "\n",
        "cik 70858\n",
        "70858,10-K,2015-02-25,8511,762,446"
       ]
      },
      {
       "output_type": "stream",
       "stream": "stdout",
       "text": [
        "\n",
        "70858,10-Q,2014-11-06,7330,477,287"
       ]
      },
      {
       "output_type": "stream",
       "stream": "stdout",
       "text": [
        "\n",
        "70858,10-Q,2014-07-29,7329,433,352"
       ]
      },
      {
       "output_type": "stream",
       "stream": "stdout",
       "text": [
        "\n",
        "70858,10-Q,2014-05-01,5751,408,361"
       ]
      },
      {
       "output_type": "stream",
       "stream": "stdout",
       "text": [
        "\n",
        "cik 935703\n",
        "935703,10-K,2015-03-13,890,285,121"
       ]
      },
      {
       "output_type": "stream",
       "stream": "stdout",
       "text": [
        "\n",
        "935703,10-Q,2014-11-20,272,102,23"
       ]
      },
      {
       "output_type": "stream",
       "stream": "stdout",
       "text": [
        "\n",
        "935703,10-Q,2014-08-21,259,97,23"
       ]
      },
      {
       "output_type": "stream",
       "stream": "stdout",
       "text": [
        "\n",
        "935703,10-Q,2014-05-22,200,88,21"
       ]
      },
      {
       "output_type": "stream",
       "stream": "stdout",
       "text": [
        "\n",
        "cik 1097864\n",
        "1097864,10-K,2015-02-27,3155,513,96"
       ]
      },
      {
       "output_type": "stream",
       "stream": "stdout",
       "text": [
        "\n",
        "1097864,10-Q,2014-10-31,2127,322,47"
       ]
      },
      {
       "output_type": "stream",
       "stream": "stdout",
       "text": [
        "\n",
        "1097864,10-Q,2014-08-01,2024,308,39"
       ]
      },
      {
       "output_type": "stream",
       "stream": "stdout",
       "text": [
        "\n",
        "1097864,10-Q,2014-05-02,1524,280,38"
       ]
      },
      {
       "output_type": "stream",
       "stream": "stdout",
       "text": [
        "\n",
        "cik 722833\n",
        "722833,10-Q,2013-11-14,388,69,43"
       ]
      },
      {
       "output_type": "stream",
       "stream": "stdout",
       "text": [
        "\n",
        "722833,10-Q,2013-08-14,312,69,42"
       ]
      },
      {
       "output_type": "stream",
       "stream": "stdout",
       "text": [
        "\n",
        "722833,10-Q,2013-05-15,228,70,42"
       ]
      },
      {
       "output_type": "stream",
       "stream": "stdout",
       "text": [
        "\n",
        "722833,10-K,2013-04-03,402,97,74"
       ]
      },
      {
       "output_type": "stream",
       "stream": "stdout",
       "text": [
        "\n",
        "cik 25475\n",
        "25475,10-K,2015-02-23,1678,464,70"
       ]
      },
      {
       "output_type": "stream",
       "stream": "stdout",
       "text": [
        "\n",
        "25475,10-Q,2014-11-06,860,194,14"
       ]
      },
      {
       "output_type": "stream",
       "stream": "stdout",
       "text": [
        "\n",
        "25475,10-Q,2014-08-04,777,184,14"
       ]
      },
      {
       "output_type": "stream",
       "stream": "stdout",
       "text": [
        "\n",
        "25475,10-Q,2014-05-05,511,180,10"
       ]
      },
      {
       "output_type": "stream",
       "stream": "stdout",
       "text": [
        "\n",
        "cik 1498710\n",
        "1498710,10-K,2015-02-18,1051,328,113"
       ]
      },
      {
       "output_type": "stream",
       "stream": "stdout",
       "text": [
        "\n",
        "1498710,10-Q,2014-10-28,460,154,50"
       ]
      },
      {
       "output_type": "stream",
       "stream": "stdout",
       "text": [
        "\n",
        "1498710,10-Q,2014-07-29,447,151,45"
       ]
      },
      {
       "output_type": "stream",
       "stream": "stdout",
       "text": [
        "\n",
        "1498710,10-Q,2014-04-29,312,123,49"
       ]
      },
      {
       "output_type": "stream",
       "stream": "stdout",
       "text": [
        "\n",
        "cik 740371\n",
        "740371,10-Q,2013-11-14,427,77,39"
       ]
      },
      {
       "output_type": "stream",
       "stream": "stdout",
       "text": [
        "\n",
        "740371,10-Q,2013-08-14,392,70,35"
       ]
      },
      {
       "output_type": "stream",
       "stream": "stdout",
       "text": [
        "\n",
        "740371,10-Q,2013-06-03,256,68,34"
       ]
      },
      {
       "output_type": "stream",
       "stream": "stdout",
       "text": [
        "\n",
        "740371,10-K,2013-04-30,475,97,90"
       ]
      },
      {
       "output_type": "stream",
       "stream": "stdout",
       "text": [
        "\n",
        "cik 1178711\n",
        "1178711,10-K,2015-04-02,712,283,115"
       ]
      },
      {
       "output_type": "stream",
       "stream": "stdout",
       "text": [
        "\n",
        "1178711,10-Q,2014-10-28,361,106,34"
       ]
      },
      {
       "output_type": "stream",
       "stream": "stdout",
       "text": [
        "\n",
        "1178711,10-Q,2014-08-06,347,98,30"
       ]
      },
      {
       "output_type": "stream",
       "stream": "stdout",
       "text": [
        "\n",
        "1178711,10-Q,2014-05-05,298,93,22"
       ]
      },
      {
       "output_type": "stream",
       "stream": "stdout",
       "text": [
        "\n",
        "cik 808377\n",
        "808377,10-Q,2013-11-27,864,98,59"
       ]
      },
      {
       "output_type": "stream",
       "stream": "stdout",
       "text": [
        "\n",
        "808377,10-Q,2013-10-23,369,115,39"
       ]
      },
      {
       "output_type": "stream",
       "stream": "stdout",
       "text": [
        "\n",
        "808377,10-Q,2013-07-26,296,117,38"
       ]
      },
      {
       "output_type": "stream",
       "stream": "stdout",
       "text": [
        "\n",
        "808377,10-K,2013-03-29,495,151,62"
       ]
      },
      {
       "output_type": "stream",
       "stream": "stdout",
       "text": [
        "\n",
        "cik 315293\n",
        "315293,10-K,2015-02-24,3480,448,111"
       ]
      },
      {
       "output_type": "stream",
       "stream": "stdout",
       "text": [
        "\n",
        "315293,10-Q,2014-10-31,2059,285,61"
       ]
      },
      {
       "output_type": "stream",
       "stream": "stdout",
       "text": [
        "\n",
        "315293,10-Q,2014-07-25,2046,282,60"
       ]
      },
      {
       "output_type": "stream",
       "stream": "stdout",
       "text": [
        "\n",
        "315293,10-Q,2014-04-25,1506,271,58"
       ]
      },
      {
       "output_type": "stream",
       "stream": "stdout",
       "text": [
        "\n",
        "cik 316300\n",
        "316300,10-K,2015-02-25,1964,355,113"
       ]
      },
      {
       "output_type": "stream",
       "stream": "stdout",
       "text": [
        "\n",
        "316300,10-Q,2014-10-29,1224,175,48"
       ]
      },
      {
       "output_type": "stream",
       "stream": "stdout",
       "text": [
        "\n",
        "316300,10-Q,2014-07-30,1202,169,53"
       ]
      },
      {
       "output_type": "stream",
       "stream": "stdout",
       "text": [
        "\n",
        "316300,10-Q,2014-04-30,996,172,55"
       ]
      },
      {
       "output_type": "stream",
       "stream": "stdout",
       "text": [
        "\n",
        "cik 1055294\n",
        "1055294,10-K,2015-01-30,810,209,67"
       ]
      },
      {
       "output_type": "stream",
       "stream": "stdout",
       "text": [
        "\n",
        "1055294,10-Q,2014-10-17,277,101,18"
       ]
      },
      {
       "output_type": "stream",
       "stream": "stdout",
       "text": [
        "\n",
        "1055294,10-Q,2014-07-18,269,99,16"
       ]
      },
      {
       "output_type": "stream",
       "stream": "stdout",
       "text": [
        "\n",
        "1055294,10-Q,2014-04-17,215,96,16"
       ]
      },
      {
       "output_type": "stream",
       "stream": "stdout",
       "text": [
        "\n",
        "cik 1195933\n",
        "1195933,10-K,2015-02-26,1903,404,117"
       ]
      },
      {
       "output_type": "stream",
       "stream": "stdout",
       "text": [
        "\n",
        "1195933,10-Q,2014-11-06,1471,204,78"
       ]
      },
      {
       "output_type": "stream",
       "stream": "stdout",
       "text": [
        "\n",
        "1195933,10-Q,2014-08-07,1457,207,72"
       ]
      },
      {
       "output_type": "stream",
       "stream": "stdout",
       "text": [
        "\n",
        "1195933,10-Q,2014-05-08,1171,208,71"
       ]
      },
      {
       "output_type": "stream",
       "stream": "stdout",
       "text": [
        "\n",
        "cik 40533\n",
        "40533,10-K,2015-02-09,2191,404,78"
       ]
      },
      {
       "output_type": "stream",
       "stream": "stdout",
       "text": [
        "\n",
        "40533,10-Q,2014-10-22,1271,194,32"
       ]
      },
      {
       "output_type": "stream",
       "stream": "stdout",
       "text": [
        "\n",
        "40533,10-Q,2014-07-23,1237,195,32"
       ]
      },
      {
       "output_type": "stream",
       "stream": "stdout",
       "text": [
        "\n",
        "40533,10-Q,2014-04-23,913,193,38"
       ]
      },
      {
       "output_type": "stream",
       "stream": "stdout",
       "text": [
        "\n",
        "cik 1297401\n",
        "1297401,10-K,2015-03-02,1571,378,168"
       ]
      },
      {
       "output_type": "stream",
       "stream": "stdout",
       "text": [
        "\n",
        "1297401,10-Q,2014-10-31,773,211,73"
       ]
      },
      {
       "output_type": "stream",
       "stream": "stdout",
       "text": [
        "\n",
        "1297401,10-Q,2014-07-30,791,228,81"
       ]
      },
      {
       "output_type": "stream",
       "stream": "stdout",
       "text": [
        "\n",
        "1297401,10-Q,2014-04-30,574,210,77"
       ]
      },
      {
       "output_type": "stream",
       "stream": "stdout",
       "text": [
        "\n",
        "cik 740260\n",
        "740260,10-K,2015-02-13,17062,444,171"
       ]
      },
      {
       "output_type": "stream",
       "stream": "stdout",
       "text": [
        "\n",
        "740260,10-Q,2014-10-24,1699,257,88"
       ]
      },
      {
       "output_type": "stream",
       "stream": "stdout",
       "text": [
        "\n",
        "740260,10-Q,2014-08-11,1544,236,84"
       ]
      },
      {
       "output_type": "stream",
       "stream": "stdout",
       "text": [
        "\n",
        "740260,10-Q,2014-04-29,1151,225,83"
       ]
      },
      {
       "output_type": "stream",
       "stream": "stdout",
       "text": [
        "\n",
        "cik 891103\n",
        "891103,10-K,2015-02-27,2544,412,101"
       ]
      },
      {
       "output_type": "stream",
       "stream": "stdout",
       "text": [
        "\n",
        "891103,10-Q,2014-11-03,1685,199,36"
       ]
      },
      {
       "output_type": "stream",
       "stream": "stdout",
       "text": [
        "\n",
        "891103,10-Q,2014-07-31,1674,194,44"
       ]
      },
      {
       "output_type": "stream",
       "stream": "stdout",
       "text": [
        "\n",
        "891103,10-Q,2014-05-02,1209,188,35"
       ]
      },
      {
       "output_type": "stream",
       "stream": "stdout",
       "text": [
        "\n",
        "cik 719733\n",
        "719733,10-Q,2015-02-05,504,200,12"
       ]
      },
      {
       "output_type": "stream",
       "stream": "stdout",
       "text": [
        "\n",
        "719733,10-Q,2014-11-06,412,198,12"
       ]
      },
      {
       "output_type": "stream",
       "stream": "stdout",
       "text": [
        "\n",
        "719733,10-K,2014-09-05,826,284,34"
       ]
      },
      {
       "output_type": "stream",
       "stream": "stdout",
       "text": [
        "\n",
        "719733,10-Q,2014-05-08,384,153,10"
       ]
      },
      {
       "output_type": "stream",
       "stream": "stdout",
       "text": [
        "\n",
        "cik 25445\n",
        "25445,10-K,2015-02-25,1947,445,151"
       ]
      },
      {
       "output_type": "stream",
       "stream": "stdout",
       "text": [
        "\n",
        "25445,10-Q,2014-11-07,888,219,97"
       ]
      },
      {
       "output_type": "stream",
       "stream": "stdout",
       "text": [
        "\n",
        "25445,10-Q,2014-08-06,925,217,97"
       ]
      },
      {
       "output_type": "stream",
       "stream": "stdout",
       "text": [
        "\n",
        "25445,10-Q,2014-05-08,719,208,91"
       ]
      },
      {
       "output_type": "stream",
       "stream": "stdout",
       "text": [
        "\n",
        "cik 319815\n",
        "319815,10-K,2015-02-12,1155,382,57"
       ]
      },
      {
       "output_type": "stream",
       "stream": "stdout",
       "text": [
        "\n",
        "319815,10-Q,2014-10-23,487,170,14"
       ]
      },
      {
       "output_type": "stream",
       "stream": "stdout",
       "text": [
        "\n",
        "319815,10-Q,2014-07-31,507,180,14"
       ]
      },
      {
       "output_type": "stream",
       "stream": "stdout",
       "text": [
        "\n",
        "319815,10-Q,2014-05-01,381,178,12"
       ]
      },
      {
       "output_type": "stream",
       "stream": "stdout",
       "text": [
        "\n",
        "cik 1085280\n",
        "1085280,10-Q,2014-10-08,753,232,62"
       ]
      },
      {
       "output_type": "stream",
       "stream": "stdout",
       "text": [
        "\n",
        "1085280,10-Q,2014-07-10,756,229,60"
       ]
      },
      {
       "output_type": "stream",
       "stream": "stdout",
       "text": [
        "\n",
        "1085280,10-Q,2014-04-08,607,216,62"
       ]
      },
      {
       "output_type": "stream",
       "stream": "stdout",
       "text": [
        "\n",
        "1085280,10-K,2014-01-29,1378,385,113"
       ]
      },
      {
       "output_type": "stream",
       "stream": "stdout",
       "text": [
        "\n",
        "cik 751365\n",
        "751365,10-Q,2014-12-10,514,144,16"
       ]
      },
      {
       "output_type": "stream",
       "stream": "stdout",
       "text": [
        "\n",
        "751365,10-Q,2014-09-12,518,142,16"
       ]
      },
      {
       "output_type": "stream",
       "stream": "stdout",
       "text": [
        "\n",
        "751365,10-Q,2014-06-16,427,143,20"
       ]
      },
      {
       "output_type": "stream",
       "stream": "stdout",
       "text": [
        "\n",
        "751365,10-K,2014-04-28,1124,314,52"
       ]
      },
      {
       "output_type": "stream",
       "stream": "stdout",
       "text": [
        "\n",
        "cik 1463101\n",
        "1463101,10-K,2015-03-04,945,336,59"
       ]
      },
      {
       "output_type": "stream",
       "stream": "stdout",
       "text": [
        "\n",
        "1463101,10-Q,2014-11-05,456,166,24"
       ]
      },
      {
       "output_type": "stream",
       "stream": "stdout",
       "text": [
        "\n",
        "1463101,10-Q,2014-08-06,434,163,22"
       ]
      },
      {
       "output_type": "stream",
       "stream": "stdout",
       "text": [
        "\n",
        "1463101,10-Q,2014-05-07,314,158,19"
       ]
      },
      {
       "output_type": "stream",
       "stream": "stdout",
       "text": [
        "\n",
        "cik 856982\n",
        "856982,10-K,2015-03-05,1372,401,84"
       ]
      },
      {
       "output_type": "stream",
       "stream": "stdout",
       "text": [
        "\n",
        "856982,10-Q,2014-11-10,622,217,32"
       ]
      },
      {
       "output_type": "stream",
       "stream": "stdout",
       "text": [
        "\n",
        "856982,10-Q,2014-08-11,603,212,32"
       ]
      },
      {
       "output_type": "stream",
       "stream": "stdout",
       "text": [
        "\n",
        "856982,10-Q,2014-05-09,497,208,29"
       ]
      },
      {
       "output_type": "stream",
       "stream": "stdout",
       "text": [
        "\n",
        "cik 1136352\n",
        "1136352,10-K,2015-03-02,2334,387,107"
       ]
      },
      {
       "output_type": "stream",
       "stream": "stdout",
       "text": [
        "\n",
        "1136352,10-Q,2014-11-07,1933,248,62"
       ]
      },
      {
       "output_type": "stream",
       "stream": "stdout",
       "text": [
        "\n",
        "1136352,10-Q,2014-08-08,1751,234,66"
       ]
      },
      {
       "output_type": "stream",
       "stream": "stdout",
       "text": [
        "\n",
        "1136352,10-Q,2014-05-08,1106,226,66"
       ]
      },
      {
       "output_type": "stream",
       "stream": "stdout",
       "text": [
        "\n",
        "cik 721447\n",
        "721447,10-Q,2015-04-15,554,211,38"
       ]
      },
      {
       "output_type": "stream",
       "stream": "stdout",
       "text": [
        "\n",
        "721447,10-K,2015-03-02,1093,279,60"
       ]
      },
      {
       "output_type": "stream",
       "stream": "stdout",
       "text": [
        "\n",
        "721447,10-Q,2014-10-14,756,196,48"
       ]
      },
      {
       "output_type": "stream",
       "stream": "stdout",
       "text": [
        "\n",
        "721447,10-Q,2014-07-16,663,191,31"
       ]
      },
      {
       "output_type": "stream",
       "stream": "stdout",
       "text": [
        "\n",
        "cik 48287\n",
        "48287,10-K,2015-02-27,1548,411,81"
       ]
      },
      {
       "output_type": "stream",
       "stream": "stdout",
       "text": [
        "\n",
        "48287,10-Q,2014-10-28,594,197,10"
       ]
      },
      {
       "output_type": "stream",
       "stream": "stdout",
       "text": [
        "\n",
        "48287,10-Q,2014-08-01,602,196,12"
       ]
      },
      {
       "output_type": "stream",
       "stream": "stdout",
       "text": [
        "\n",
        "48287,10-Q,2014-04-29,467,190,12"
       ]
      },
      {
       "output_type": "stream",
       "stream": "stdout",
       "text": [
        "\n",
        "cik 1413594\n",
        "cik 81018"
       ]
      },
      {
       "output_type": "stream",
       "stream": "stdout",
       "text": [
        "\n",
        "81018,10-K,2015-02-20,2212,398,174"
       ]
      },
      {
       "output_type": "stream",
       "stream": "stdout",
       "text": [
        "\n",
        "81018,10-Q,2014-11-03,888,204,57"
       ]
      },
      {
       "output_type": "stream",
       "stream": "stdout",
       "text": [
        "\n",
        "81018,10-Q,2014-08-04,875,195,62"
       ]
      },
      {
       "output_type": "stream",
       "stream": "stdout",
       "text": [
        "\n",
        "81018,10-Q,2014-05-05,683,198,69"
       ]
      },
      {
       "output_type": "stream",
       "stream": "stdout",
       "text": [
        "\n",
        "cik 1365916\n",
        "1365916,10-K,2015-03-31,1646,409,209"
       ]
      },
      {
       "output_type": "stream",
       "stream": "stdout",
       "text": [
        "\n",
        "1365916,10-Q,2014-11-07,1260,317,157"
       ]
      },
      {
       "output_type": "stream",
       "stream": "stdout",
       "text": [
        "\n",
        "1365916,10-Q,2014-08-08,1235,312,157"
       ]
      },
      {
       "output_type": "stream",
       "stream": "stdout",
       "text": [
        "\n",
        "1365916,10-Q,2014-05-09,1057,306,158"
       ]
      },
      {
       "output_type": "stream",
       "stream": "stdout",
       "text": [
        "\n",
        "cik 105770\n",
        "105770,10-K,2015-02-25,1710,472,54"
       ]
      },
      {
       "output_type": "stream",
       "stream": "stdout",
       "text": [
        "\n",
        "105770,10-Q,2014-11-03,736,204,15"
       ]
      },
      {
       "output_type": "stream",
       "stream": "stdout",
       "text": [
        "\n",
        "105770,10-Q,2014-08-01,731,201,16"
       ]
      },
      {
       "output_type": "stream",
       "stream": "stdout",
       "text": [
        "\n",
        "105770,10-Q,2014-05-08,540,201,16"
       ]
      },
      {
       "output_type": "stream",
       "stream": "stdout",
       "text": [
        "\n",
        "cik 887969\n",
        "887969,10-K,2015-03-16,1227,363,70"
       ]
      },
      {
       "output_type": "stream",
       "stream": "stdout",
       "text": [
        "\n",
        "887969,10-Q,2014-11-05,532,173,22"
       ]
      },
      {
       "output_type": "stream",
       "stream": "stdout",
       "text": [
        "\n",
        "887969,10-Q,2014-08-18,505,159,20"
       ]
      },
      {
       "output_type": "stream",
       "stream": "stdout",
       "text": [
        "\n",
        "887969,10-Q,2014-05-08,362,151,18"
       ]
      },
      {
       "output_type": "stream",
       "stream": "stdout",
       "text": [
        "\n",
        "cik 715072\n",
        "715072,10-K,2015-03-02,3563,646,167"
       ]
      },
      {
       "output_type": "stream",
       "stream": "stdout",
       "text": [
        "\n",
        "715072,10-Q,2014-11-10,2685,410,107"
       ]
      },
      {
       "output_type": "stream",
       "stream": "stdout",
       "text": [
        "\n",
        "715072,10-Q,2014-08-08,2686,409,106"
       ]
      },
      {
       "output_type": "stream",
       "stream": "stdout",
       "text": [
        "\n",
        "715072,10-Q,2014-05-09,2244,405,107"
       ]
      },
      {
       "output_type": "stream",
       "stream": "stdout",
       "text": [
        "\n",
        "cik 1050825\n",
        "1050825,10-Q,2014-12-23,684,164,9"
       ]
      },
      {
       "output_type": "stream",
       "stream": "stdout",
       "text": [
        "\n",
        "1050825,10-Q,2014-09-26,654,162,8"
       ]
      },
      {
       "output_type": "stream",
       "stream": "stdout",
       "text": [
        "\n",
        "1050825,10-Q,2014-06-27,513,161,8"
       ]
      },
      {
       "output_type": "stream",
       "stream": "stdout",
       "text": [
        "\n",
        "1050825,10-K,2014-04-17,2254,530,90"
       ]
      },
      {
       "output_type": "stream",
       "stream": "stdout",
       "text": [
        "\n",
        "cik 789132\n",
        "789132,10-K,2015-02-27,1011,332,51"
       ]
      },
      {
       "output_type": "stream",
       "stream": "stdout",
       "text": [
        "\n",
        "789132,10-Q,2014-11-06,577,205,26"
       ]
      },
      {
       "output_type": "stream",
       "stream": "stdout",
       "text": [
        "\n",
        "789132,10-Q,2014-08-11,551,200,25"
       ]
      },
      {
       "output_type": "stream",
       "stream": "stdout",
       "text": [
        "\n",
        "789132,10-Q,2014-04-30,321,148,14"
       ]
      },
      {
       "output_type": "stream",
       "stream": "stdout",
       "text": [
        "\n",
        "cik 764478\n",
        "764478,10-K,2015-03-31,1895,420,123"
       ]
      },
      {
       "output_type": "stream",
       "stream": "stdout",
       "text": [
        "\n",
        "764478,10-Q,2014-12-05,991,192,28"
       ]
      },
      {
       "output_type": "stream",
       "stream": "stdout",
       "text": [
        "\n",
        "764478,10-Q,2014-09-10,974,188,29"
       ]
      },
      {
       "output_type": "stream",
       "stream": "stdout",
       "text": [
        "\n",
        "764478,10-Q,2014-06-09,835,178,30"
       ]
      },
      {
       "output_type": "stream",
       "stream": "stdout",
       "text": [
        "\n",
        "cik 1386278\n",
        "1386278,10-K,2015-03-02,1474,440,73"
       ]
      },
      {
       "output_type": "stream",
       "stream": "stdout",
       "text": [
        "\n",
        "1386278,10-Q,2014-11-07,886,232,37"
       ]
      },
      {
       "output_type": "stream",
       "stream": "stdout",
       "text": [
        "\n",
        "1386278,10-Q,2014-08-11,863,219,36"
       ]
      },
      {
       "output_type": "stream",
       "stream": "stdout",
       "text": [
        "\n",
        "1386278,10-Q,2014-05-12,764,219,35"
       ]
      },
      {
       "output_type": "stream",
       "stream": "stdout",
       "text": [
        "\n",
        "cik 37785\n",
        "37785,10-K,2015-02-27,2500,555,145"
       ]
      },
      {
       "output_type": "stream",
       "stream": "stdout",
       "text": [
        "\n",
        "37785,10-Q,2014-10-30,1269,281,83"
       ]
      },
      {
       "output_type": "stream",
       "stream": "stdout",
       "text": [
        "\n",
        "37785,10-Q,2014-08-01,1219,270,68"
       ]
      },
      {
       "output_type": "stream",
       "stream": "stdout",
       "text": [
        "\n",
        "37785,10-Q,2014-05-07,937,266,74"
       ]
      },
      {
       "output_type": "stream",
       "stream": "stdout",
       "text": [
        "\n",
        "cik 858339\n",
        "858339,10-K,2015-03-16,2457,515,104"
       ]
      },
      {
       "output_type": "stream",
       "stream": "stdout",
       "text": [
        "\n",
        "858339,10-Q,2014-11-14,1225,285,59"
       ]
      },
      {
       "output_type": "stream",
       "stream": "stdout",
       "text": [
        "\n",
        "858339,10-Q,2014-08-11,1192,281,55"
       ]
      },
      {
       "output_type": "stream",
       "stream": "stdout",
       "text": [
        "\n",
        "858339,10-Q,2014-05-09,2155,283,53"
       ]
      },
      {
       "output_type": "stream",
       "stream": "stdout",
       "text": [
        "\n",
        "cik 67215\n",
        "67215,10-Q,2015-02-27,1368,224,44"
       ]
      },
      {
       "output_type": "stream",
       "stream": "stdout",
       "text": [
        "\n",
        "67215,10-Q,2014-11-26,1130,224,46"
       ]
      },
      {
       "output_type": "stream",
       "stream": "stdout",
       "text": [
        "\n",
        "67215,10-K,2014-09-09,1862,353,68"
       ]
      },
      {
       "output_type": "stream",
       "stream": "stdout",
       "text": [
        "\n",
        "67215,10-Q,2014-05-23,1442,243,47"
       ]
      },
      {
       "output_type": "stream",
       "stream": "stdout",
       "text": [
        "\n",
        "cik 1514705\n",
        "1514705,10-K,2015-02-24,2850,470,161"
       ]
      },
      {
       "output_type": "stream",
       "stream": "stdout",
       "text": [
        "\n",
        "1514705,10-Q,2014-10-28,1963,266,93"
       ]
      },
      {
       "output_type": "stream",
       "stream": "stdout",
       "text": [
        "\n",
        "1514705,10-Q,2014-07-29,1745,233,74"
       ]
      },
      {
       "output_type": "stream",
       "stream": "stdout",
       "text": [
        "\n",
        "1514705,10-Q,2014-05-01,1375,217,77"
       ]
      },
      {
       "output_type": "stream",
       "stream": "stdout",
       "text": [
        "\n",
        "cik 1506546\n",
        "1506546,10-Q,2014-05-15,723,144,13"
       ]
      },
      {
       "output_type": "stream",
       "stream": "stdout",
       "text": [
        "\n",
        "1506546,10-K,2014-03-31,1573,340,75"
       ]
      },
      {
       "output_type": "stream",
       "stream": "stdout",
       "text": [
        "\n",
        "1506546,10-Q,2013-11-14,1001,162,43"
       ]
      },
      {
       "output_type": "stream",
       "stream": "stdout",
       "text": [
        "\n",
        "1506546,10-Q,2013-08-12,890,136,23"
       ]
      },
      {
       "output_type": "stream",
       "stream": "stdout",
       "text": [
        "\n",
        "cik 54480\n",
        "54480,10-K,2015-01-30,2053,375,89"
       ]
      },
      {
       "output_type": "stream",
       "stream": "stdout",
       "text": [
        "\n",
        "54480,10-Q,2014-10-17,1123,167,19"
       ]
      },
      {
       "output_type": "stream",
       "stream": "stdout",
       "text": [
        "\n",
        "54480,10-Q,2014-07-18,1115,164,20"
       ]
      },
      {
       "output_type": "stream",
       "stream": "stdout",
       "text": [
        "\n",
        "54480,10-Q,2014-04-17,802,158,20"
       ]
      },
      {
       "output_type": "stream",
       "stream": "stdout",
       "text": [
        "\n",
        "cik 1546417\n",
        "1546417,10-K,2015-02-24,1652,527,124"
       ]
      },
      {
       "output_type": "stream",
       "stream": "stdout",
       "text": [
        "\n",
        "1546417,10-Q,2014-11-04,884,282,64"
       ]
      },
      {
       "output_type": "stream",
       "stream": "stdout",
       "text": [
        "\n",
        "1546417,10-Q,2014-08-05,712,221,59"
       ]
      },
      {
       "output_type": "stream",
       "stream": "stdout",
       "text": [
        "\n",
        "1546417,10-Q,2014-05-09,618,210,42"
       ]
      },
      {
       "output_type": "stream",
       "stream": "stdout",
       "text": [
        "\n",
        "cik 1394954\n",
        "1394954,10-Q,2014-08-07,960,269,63"
       ]
      },
      {
       "output_type": "stream",
       "stream": "stdout",
       "text": [
        "\n",
        "1394954,10-Q,2014-05-08,729,251,73"
       ]
      },
      {
       "output_type": "stream",
       "stream": "stdout",
       "text": [
        "\n",
        "1394954,10-Q,2013-11-07,878,293,65"
       ]
      },
      {
       "output_type": "stream",
       "stream": "stdout",
       "text": [
        "\n",
        "1394954,10-Q,2013-08-08,878,282,70"
       ]
      },
      {
       "output_type": "stream",
       "stream": "stdout",
       "text": [
        "\n",
        "cik 1181749\n",
        "1181749,10-Q,2015-03-16,306,126,21"
       ]
      },
      {
       "output_type": "stream",
       "stream": "stdout",
       "text": [
        "\n",
        "1181749,10-K,2015-01-28,668,196,61"
       ]
      },
      {
       "output_type": "stream",
       "stream": "stdout",
       "text": [
        "\n",
        "1181749,10-Q,2014-09-16,346,127,24"
       ]
      },
      {
       "output_type": "stream",
       "stream": "stdout",
       "text": [
        "\n",
        "1181749,10-Q,2014-06-16,320,125,23"
       ]
      },
      {
       "output_type": "stream",
       "stream": "stdout",
       "text": [
        "\n",
        "cik 1078271\n",
        "1078271,10-Q,2015-01-30,703,227,39"
       ]
      },
      {
       "output_type": "stream",
       "stream": "stdout",
       "text": [
        "\n",
        "1078271,10-Q,2014-10-29,562,225,43"
       ]
      },
      {
       "output_type": "stream",
       "stream": "stdout",
       "text": [
        "\n",
        "1078271,10-K,2014-09-15,1378,408,85"
       ]
      },
      {
       "output_type": "stream",
       "stream": "stdout",
       "text": [
        "\n",
        "1078271,10-Q,2014-05-07,853,272,52"
       ]
      },
      {
       "output_type": "stream",
       "stream": "stdout",
       "text": [
        "\n",
        "cik 1313918\n",
        "1313918,10-K,2015-03-18,1099,308,72"
       ]
      },
      {
       "output_type": "stream",
       "stream": "stdout",
       "text": [
        "\n",
        "1313918,10-Q,2014-11-14,1186,248,69"
       ]
      },
      {
       "output_type": "stream",
       "stream": "stdout",
       "text": [
        "\n",
        "1313918,10-Q,2014-08-13,1182,245,67"
       ]
      },
      {
       "output_type": "stream",
       "stream": "stdout",
       "text": [
        "\n",
        "1313918,10-Q,2014-05-15,848,230,64"
       ]
      },
      {
       "output_type": "stream",
       "stream": "stdout",
       "text": [
        "\n",
        "cik 42316\n",
        "42316,10-K,2015-03-30,656,252,42"
       ]
      },
      {
       "output_type": "stream",
       "stream": "stdout",
       "text": [
        "\n",
        "42316,10-Q,2014-11-12,461,173,18"
       ]
      },
      {
       "output_type": "stream",
       "stream": "stdout",
       "text": [
        "\n",
        "42316,10-Q,2014-08-14,452,169,20"
       ]
      },
      {
       "output_type": "stream",
       "stream": "stdout",
       "text": [
        "\n",
        "42316,10-Q,2014-05-15,386,164,18"
       ]
      },
      {
       "output_type": "stream",
       "stream": "stdout",
       "text": [
        "\n",
        "cik 1405621\n",
        "1405621,10-Q,2015-01-20,194,67,21"
       ]
      },
      {
       "output_type": "stream",
       "stream": "stdout",
       "text": [
        "\n",
        "1405621,10-Q,2014-10-15,203,65,24"
       ]
      },
      {
       "output_type": "stream",
       "stream": "stdout",
       "text": [
        "\n",
        "1405621,10-Q,2014-07-15,158,58,25"
       ]
      },
      {
       "output_type": "stream",
       "stream": "stdout",
       "text": [
        "\n",
        "1405621,10-K,2014-06-11,318,104,40"
       ]
      },
      {
       "output_type": "stream",
       "stream": "stdout",
       "text": [
        "\n",
        "cik 1048286\n",
        "1048286,10-K,2015-02-19,1475,378,124"
       ]
      },
      {
       "output_type": "stream",
       "stream": "stdout",
       "text": [
        "\n",
        "1048286,10-Q,2014-10-29,696,210,68"
       ]
      },
      {
       "output_type": "stream",
       "stream": "stdout",
       "text": [
        "\n",
        "1048286,10-Q,2014-07-30,705,211,68"
       ]
      },
      {
       "output_type": "stream",
       "stream": "stdout",
       "text": [
        "\n",
        "1048286,10-Q,2014-04-30,599,202,72"
       ]
      },
      {
       "output_type": "stream",
       "stream": "stdout",
       "text": [
        "\n",
        "cik 1582616\n",
        "1582616,10-K,2015-03-31,945,305,55"
       ]
      },
      {
       "output_type": "stream",
       "stream": "stdout",
       "text": [
        "\n",
        "1582616,10-Q,2014-11-14,418,177,33"
       ]
      },
      {
       "output_type": "stream",
       "stream": "stdout",
       "text": [
        "\n",
        "1582616,10-Q,2014-08-14,403,171,29"
       ]
      },
      {
       "output_type": "stream",
       "stream": "stdout",
       "text": [
        "\n",
        "1582616,10-Q,2014-05-15,336,168,21"
       ]
      },
      {
       "output_type": "stream",
       "stream": "stdout",
       "text": [
        "\n",
        "cik 949158\n",
        "949158,10-K,2015-02-19,1237,385,57"
       ]
      },
      {
       "output_type": "stream",
       "stream": "stdout",
       "text": [
        "\n",
        "949158,10-Q,2014-10-28,660,219,18"
       ]
      },
      {
       "output_type": "stream",
       "stream": "stdout",
       "text": [
        "\n",
        "949158,10-Q,2014-07-29,643,195,22"
       ]
      },
      {
       "output_type": "stream",
       "stream": "stdout",
       "text": [
        "\n",
        "949158,10-Q,2014-04-29,479,193,18"
       ]
      },
      {
       "output_type": "stream",
       "stream": "stdout",
       "text": [
        "\n",
        "cik 837010\n",
        "837010,10-K,2015-03-27,2623,386,164"
       ]
      },
      {
       "output_type": "stream",
       "stream": "stdout",
       "text": [
        "\n",
        "837010,10-Q,2014-11-12,2483,255,133"
       ]
      },
      {
       "output_type": "stream",
       "stream": "stdout",
       "text": [
        "\n",
        "837010,10-Q,2014-08-12,2446,259,133"
       ]
      },
      {
       "output_type": "stream",
       "stream": "stdout",
       "text": [
        "\n",
        "837010,10-Q,2014-05-13,1884,257,134"
       ]
      },
      {
       "output_type": "stream",
       "stream": "stdout",
       "text": [
        "\n",
        "cik 703351\n",
        "703351,10-Q,2015-02-02,418,162,26"
       ]
      },
      {
       "output_type": "stream",
       "stream": "stdout",
       "text": [
        "\n",
        "703351,10-Q,2014-11-03,305,152,15"
       ]
      },
      {
       "output_type": "stream",
       "stream": "stdout",
       "text": [
        "\n",
        "703351,10-K,2014-08-25,980,340,59"
       ]
      },
      {
       "output_type": "stream",
       "stream": "stdout",
       "text": [
        "\n",
        "703351,10-Q,2014-05-05,349,140,21"
       ]
      },
      {
       "output_type": "stream",
       "stream": "stdout",
       "text": [
        "\n",
        "cik 836658\n",
        "836658,10-K,2015-03-27,3017,407,201"
       ]
      },
      {
       "output_type": "stream",
       "stream": "stdout",
       "text": [
        "\n",
        "836658,10-Q,2014-11-12,2665,258,147"
       ]
      },
      {
       "output_type": "stream",
       "stream": "stdout",
       "text": [
        "\n",
        "836658,10-Q,2014-08-12,2677,261,147"
       ]
      },
      {
       "output_type": "stream",
       "stream": "stdout",
       "text": [
        "\n",
        "836658,10-Q,2014-05-13,2125,264,146"
       ]
      },
      {
       "output_type": "stream",
       "stream": "stdout",
       "text": [
        "\n",
        "cik 1396279\n",
        "1396279,10-Q,2015-01-29,386,165,20"
       ]
      },
      {
       "output_type": "stream",
       "stream": "stdout",
       "text": [
        "\n",
        "1396279,10-Q,2014-10-30,369,158,19"
       ]
      },
      {
       "output_type": "stream",
       "stream": "stdout",
       "text": [
        "\n",
        "1396279,10-Q,2014-07-31,332,157,19"
       ]
      },
      {
       "output_type": "stream",
       "stream": "stdout",
       "text": [
        "\n",
        "1396279,10-K,2014-05-20,826,268,44"
       ]
      },
      {
       "output_type": "stream",
       "stream": "stdout",
       "text": [
        "\n",
        "cik 20740\n",
        "20740,10-Q,2015-03-20,849,285,28"
       ]
      },
      {
       "output_type": "stream",
       "stream": "stdout",
       "text": [
        "\n",
        "20740,10-K,2015-01-26,1746,458,48"
       ]
      },
      {
       "output_type": "stream",
       "stream": "stdout",
       "text": [
        "\n",
        "20740,10-Q,2014-09-19,970,280,30"
       ]
      },
      {
       "output_type": "stream",
       "stream": "stdout",
       "text": [
        "\n",
        "20740,10-Q,2014-06-20,968,278,32"
       ]
      },
      {
       "output_type": "stream",
       "stream": "stdout",
       "text": [
        "\n",
        "cik 1411342\n",
        "1411342,10-K,2015-03-13,4113,184,188"
       ]
      },
      {
       "output_type": "stream",
       "stream": "stdout",
       "text": [
        "\n",
        "1411342,10-Q,2014-11-10,3977,172,179"
       ]
      },
      {
       "output_type": "stream",
       "stream": "stdout",
       "text": [
        "\n",
        "1411342,10-Q,2014-08-08,3972,171,170"
       ]
      },
      {
       "output_type": "stream",
       "stream": "stdout",
       "text": [
        "\n",
        "1411342,10-Q,2014-05-09,3379,164,166"
       ]
      },
      {
       "output_type": "stream",
       "stream": "stdout",
       "text": [
        "\n",
        "cik 746210\n",
        "746210,10-K,2015-03-05,872,328,84"
       ]
      },
      {
       "output_type": "stream",
       "stream": "stdout",
       "text": [
        "\n",
        "746210,10-Q,2014-11-05,592,234,39"
       ]
      },
      {
       "output_type": "stream",
       "stream": "stdout",
       "text": [
        "\n",
        "746210,10-Q,2014-08-06,538,214,35"
       ]
      },
      {
       "output_type": "stream",
       "stream": "stdout",
       "text": [
        "\n",
        "746210,10-Q,2014-05-07,432,201,31"
       ]
      },
      {
       "output_type": "stream",
       "stream": "stdout",
       "text": [
        "\n",
        "cik 57528\n",
        "57528,10-K,2015-03-04,1553,437,81"
       ]
      },
      {
       "output_type": "stream",
       "stream": "stdout",
       "text": [
        "\n",
        "57528,10-Q,2014-11-05,735,260,29"
       ]
      },
      {
       "output_type": "stream",
       "stream": "stdout",
       "text": [
        "\n",
        "57528,10-Q,2014-08-07,685,247,26"
       ]
      },
      {
       "output_type": "stream",
       "stream": "stdout",
       "text": [
        "\n",
        "57528,10-Q,2014-05-08,444,183,21"
       ]
      },
      {
       "output_type": "stream",
       "stream": "stdout",
       "text": [
        "\n",
        "cik 1351051\n",
        "1351051,10-K,2015-02-20,1675,348,151"
       ]
      },
      {
       "output_type": "stream",
       "stream": "stdout",
       "text": [
        "\n",
        "1351051,10-Q,2014-11-03,1126,234,89"
       ]
      },
      {
       "output_type": "stream",
       "stream": "stdout",
       "text": [
        "\n",
        "1351051,10-Q,2014-08-11,1085,229,88"
       ]
      },
      {
       "output_type": "stream",
       "stream": "stdout",
       "text": [
        "\n",
        "1351051,10-Q,2014-05-05,770,217,86"
       ]
      },
      {
       "output_type": "stream",
       "stream": "stdout",
       "text": [
        "\n",
        "cik 1144215\n",
        "1144215,10-Q,2015-04-01,1245,202,12"
       ]
      },
      {
       "output_type": "stream",
       "stream": "stdout",
       "text": [
        "\n",
        "1144215,10-Q,2015-01-09,941,199,13"
       ]
      },
      {
       "output_type": "stream",
       "stream": "stdout",
       "text": [
        "\n",
        "1144215,10-K,2014-10-29,2196,403,46"
       ]
      },
      {
       "output_type": "stream",
       "stream": "stdout",
       "text": [
        "\n",
        "1144215,10-Q,2014-07-01,1232,207,15"
       ]
      },
      {
       "output_type": "stream",
       "stream": "stdout",
       "text": [
        "\n",
        "cik 1569391\n",
        "1569391,10-K,2015-03-02,1893,466,128"
       ]
      },
      {
       "output_type": "stream",
       "stream": "stdout",
       "text": [
        "\n",
        "1569391,10-Q,2014-11-10,1524,390,88"
       ]
      },
      {
       "output_type": "stream",
       "stream": "stdout",
       "text": [
        "\n",
        "1569391,10-Q,2014-08-11,1425,369,80"
       ]
      },
      {
       "output_type": "stream",
       "stream": "stdout",
       "text": [
        "\n",
        "1569391,10-Q,2014-05-12,1193,364,79"
       ]
      },
      {
       "output_type": "stream",
       "stream": "stdout",
       "text": [
        "\n",
        "cik 1428669\n",
        "1428669,10-K,2015-02-23,1128,380,33"
       ]
      },
      {
       "output_type": "stream",
       "stream": "stdout",
       "text": [
        "\n",
        "1428669,10-Q,2014-11-04,443,168,8"
       ]
      },
      {
       "output_type": "stream",
       "stream": "stdout",
       "text": [
        "\n",
        "1428669,10-Q,2014-08-06,434,164,15"
       ]
      },
      {
       "output_type": "stream",
       "stream": "stdout",
       "text": [
        "\n",
        "1428669,10-Q,2014-05-07,365,152,13"
       ]
      },
      {
       "output_type": "stream",
       "stream": "stdout",
       "text": [
        "\n",
        "cik 1512077\n",
        "1512077,10-K,2015-03-17,1928,485,131"
       ]
      },
      {
       "output_type": "stream",
       "stream": "stdout",
       "text": [
        "\n",
        "1512077,10-Q,2014-11-07,1003,328,82"
       ]
      },
      {
       "output_type": "stream",
       "stream": "stdout",
       "text": [
        "\n",
        "1512077,10-Q,2014-08-11,916,303,60"
       ]
      },
      {
       "output_type": "stream",
       "stream": "stdout",
       "text": [
        "\n",
        "1512077,10-Q,2014-05-12,685,271,45"
       ]
      },
      {
       "output_type": "stream",
       "stream": "stdout",
       "text": [
        "\n",
        "cik 1366367\n",
        "1366367,10-K,2015-03-13,3103,527,172"
       ]
      },
      {
       "output_type": "stream",
       "stream": "stdout",
       "text": [
        "\n",
        "1366367,10-Q,2014-11-07,2322,317,101"
       ]
      },
      {
       "output_type": "stream",
       "stream": "stdout",
       "text": [
        "\n",
        "1366367,10-Q,2014-08-08,2442,337,65"
       ]
      },
      {
       "output_type": "stream",
       "stream": "stdout",
       "text": [
        "\n",
        "1366367,10-Q,2014-05-12,1971,321,63"
       ]
      },
      {
       "output_type": "stream",
       "stream": "stdout",
       "text": [
        "\n",
        "cik 719739\n",
        "719739,10-K,2015-02-26,3650,495,212"
       ]
      },
      {
       "output_type": "stream",
       "stream": "stdout",
       "text": [
        "\n",
        "719739,10-Q,2014-11-07,3011,304,139"
       ]
      },
      {
       "output_type": "stream",
       "stream": "stdout",
       "text": [
        "\n",
        "719739,10-Q,2014-08-08,3045,303,140"
       ]
      },
      {
       "output_type": "stream",
       "stream": "stdout",
       "text": [
        "\n",
        "719739,10-Q,2014-05-09,2420,279,136"
       ]
      },
      {
       "output_type": "stream",
       "stream": "stdout",
       "text": [
        "\n",
        "cik 732412\n",
        "732412,10-Q,2013-08-14,656,189,47"
       ]
      },
      {
       "output_type": "stream",
       "stream": "stdout",
       "text": [
        "\n",
        "732412,10-Q,2013-05-15,446,152,33"
       ]
      },
      {
       "output_type": "stream",
       "stream": "stdout",
       "text": [
        "\n",
        "732412,10-K,2013-04-01,1652,389,141"
       ]
      },
      {
       "output_type": "stream",
       "stream": "stdout",
       "text": [
        "\n",
        "732412,10-Q,2012-11-14,630,158,58"
       ]
      },
      {
       "output_type": "stream",
       "stream": "stdout",
       "text": [
        "\n",
        "cik 1331754\n",
        "1331754,10-K,2015-03-13,2479,425,199"
       ]
      },
      {
       "output_type": "stream",
       "stream": "stdout",
       "text": [
        "\n",
        "1331754,10-Q,2014-11-07,2168,305,163"
       ]
      },
      {
       "output_type": "stream",
       "stream": "stdout",
       "text": [
        "\n",
        "1331754,10-Q,2014-08-08,2229,280,200"
       ]
      },
      {
       "output_type": "stream",
       "stream": "stdout",
       "text": [
        "\n",
        "1331754,10-Q,2014-05-09,1910,270,211"
       ]
      },
      {
       "output_type": "stream",
       "stream": "stdout",
       "text": [
        "\n",
        "cik 1123360\n",
        "1123360,10-Q,2015-04-08,737,237,34"
       ]
      },
      {
       "output_type": "stream",
       "stream": "stdout",
       "text": [
        "\n",
        "1123360,10-Q,2015-01-08,733,237,37"
       ]
      },
      {
       "output_type": "stream",
       "stream": "stdout",
       "text": [
        "\n",
        "1123360,10-Q,2014-10-02,585,229,33"
       ]
      },
      {
       "output_type": "stream",
       "stream": "stdout",
       "text": [
        "\n",
        "1123360,10-K,2014-07-29,1250,351,57"
       ]
      },
      {
       "output_type": "stream",
       "stream": "stdout",
       "text": [
        "\n",
        "cik 872589\n",
        "872589,10-K,2015-02-12,1343,371,133"
       ]
      },
      {
       "output_type": "stream",
       "stream": "stdout",
       "text": [
        "\n",
        "872589,10-Q,2014-11-04,758,194,50"
       ]
      },
      {
       "output_type": "stream",
       "stream": "stdout",
       "text": [
        "\n",
        "872589,10-Q,2014-08-05,736,190,48"
       ]
      },
      {
       "output_type": "stream",
       "stream": "stdout",
       "text": [
        "\n",
        "872589,10-Q,2014-05-08,559,169,45"
       ]
      },
      {
       "output_type": "stream",
       "stream": "stdout",
       "text": [
        "\n",
        "cik 1318084\n",
        "1318084,10-K,2015-03-02,1677,418,103"
       ]
      },
      {
       "output_type": "stream",
       "stream": "stdout",
       "text": [
        "\n",
        "1318084,10-Q,2014-11-06,531,161,25"
       ]
      },
      {
       "output_type": "stream",
       "stream": "stdout",
       "text": [
        "\n",
        "1318084,10-Q,2014-08-07,519,159,22"
       ]
      },
      {
       "output_type": "stream",
       "stream": "stdout",
       "text": [
        "\n",
        "1318084,10-Q,2014-05-08,378,156,28"
       ]
      },
      {
       "output_type": "stream",
       "stream": "stdout",
       "text": [
        "\n",
        "cik 1024725\n",
        "1024725,10-K,2015-02-25,2510,438,193"
       ]
      },
      {
       "output_type": "stream",
       "stream": "stdout",
       "text": [
        "\n",
        "1024725,10-Q,2014-11-05,2013,226,93"
       ]
      },
      {
       "output_type": "stream",
       "stream": "stdout",
       "text": [
        "\n",
        "1024725,10-Q,2014-08-05,2005,223,93"
       ]
      },
      {
       "output_type": "stream",
       "stream": "stdout",
       "text": [
        "\n",
        "1024725,10-Q,2014-05-06,1306,215,95"
       ]
      },
      {
       "output_type": "stream",
       "stream": "stdout",
       "text": [
        "\n",
        "cik 318154\n",
        "318154,10-K,2015-02-19,1950,436,116"
       ]
      },
      {
       "output_type": "stream",
       "stream": "stdout",
       "text": [
        "\n",
        "318154,10-Q,2014-10-29,1158,231,46"
       ]
      },
      {
       "output_type": "stream",
       "stream": "stdout",
       "text": [
        "\n",
        "318154,10-Q,2014-08-05,1081,212,52"
       ]
      },
      {
       "output_type": "stream",
       "stream": "stdout",
       "text": [
        "\n",
        "318154,10-Q,2014-04-30,836,201,45"
       ]
      },
      {
       "output_type": "stream",
       "stream": "stdout",
       "text": [
        "\n",
        "cik 1506307\n",
        "1506307,10-K,2015-02-23,4426,600,176"
       ]
      },
      {
       "output_type": "stream",
       "stream": "stdout",
       "text": [
        "\n",
        "1506307,10-Q,2014-10-29,1474,293,108"
       ]
      },
      {
       "output_type": "stream",
       "stream": "stdout",
       "text": [
        "\n",
        "1506307,10-Q,2014-07-31,1434,288,103"
       ]
      },
      {
       "output_type": "stream",
       "stream": "stdout",
       "text": [
        "\n",
        "1506307,10-Q,2014-05-01,1787,289,99"
       ]
      },
      {
       "output_type": "stream",
       "stream": "stdout",
       "text": [
        "\n",
        "cik 1176373\n",
        "1176373,10-K,2015-03-11,1338,311,154"
       ]
      },
      {
       "output_type": "stream",
       "stream": "stdout",
       "text": [
        "\n",
        "1176373,10-Q,2014-11-03,662,194,96"
       ]
      },
      {
       "output_type": "stream",
       "stream": "stdout",
       "text": [
        "\n",
        "1176373,10-Q,2014-08-01,633,190,86"
       ]
      },
      {
       "output_type": "stream",
       "stream": "stdout",
       "text": [
        "\n",
        "1176373,10-Q,2014-05-01,509,185,84"
       ]
      },
      {
       "output_type": "stream",
       "stream": "stdout",
       "text": [
        "\n",
        "cik 1186362\n",
        "1186362,10-Q,2013-08-08,1518,186,40"
       ]
      },
      {
       "output_type": "stream",
       "stream": "stdout",
       "text": [
        "\n",
        "1186362,10-Q,2013-05-08,1265,182,40"
       ]
      },
      {
       "output_type": "stream",
       "stream": "stdout",
       "text": [
        "\n",
        "1186362,10-K,2013-04-01,2339,380,83"
       ]
      },
      {
       "output_type": "stream",
       "stream": "stdout",
       "text": [
        "\n",
        "1186362,10-Q,2012-11-13,1609,205,49"
       ]
      },
      {
       "output_type": "stream",
       "stream": "stdout",
       "text": [
        "\n",
        "cik 1534814\n",
        "1534814,10-Q,2014-11-14,989,139,27"
       ]
      },
      {
       "output_type": "stream",
       "stream": "stdout",
       "text": [
        "\n",
        "1534814,10-Q,2014-08-12,954,137,26"
       ]
      },
      {
       "output_type": "stream",
       "stream": "stdout",
       "text": [
        "\n",
        "1534814,10-Q,2014-05-12,755,140,25"
       ]
      },
      {
       "output_type": "stream",
       "stream": "stdout",
       "text": [
        "\n",
        "1534814,10-K,2014-03-11,1367,299,74"
       ]
      }
     ]
    },
    {
     "cell_type": "code",
     "collapsed": false,
     "input": [
      "#troubleshooting block\n",
      "x = 0\n",
      "# for each cik, read html page on sec\n",
      "testcik = str(1316645)\n",
      "print \"cik\" + \" \" + testcik\n",
      "url = 'http://www.sec.gov/cgi-bin/browse-edgar?action=getcompany&CIK=' + testcik + '&type=10&dateb=&owner=exclude&count=40'\n",
      "u = urllib2.urlopen(url)\n",
      "try:\n",
      "    html = u.read()\n",
      "    \n",
      "    if 'No matching CIK' in html:\n",
      "        print testcik + ' is an invalid CIK'\n",
      "        #error_result = [line[0], 'invalid CIK']\n",
      "        #error_write.writerow(error_result)\n",
      "    else:\n",
      "        split_links = html.split(\"\\\" id=\\\"documentsbutton\\\"\");\n",
      "        split_xbrl = split_links[0].split(\"<a href=\\\"\")\n",
      "        s = 0\n",
      "        result = 0\n",
      "        while True:\n",
      "            # check that we still have documents links and haven't gotten our 4 filings\n",
      "            if s >= len(split_links) or result >= 4:\n",
      "                break\n",
      "            else:\n",
      "                split_xbrl = split_links[s].split(\"<a href=\\\"\")\n",
      "                s = s + 1\n",
      "\n",
      "                #then check to see if we have an href to follow\n",
      "                if 'Archives' in split_xbrl[len(split_xbrl) - 1]:\n",
      "                    # then follow the link to filings\n",
      "                    url = 'http://www.sec.gov' + split_xbrl[len(split_xbrl) - 1]\n",
      "                    print url\n",
      "                    u = urllib2.urlopen(url)#\n",
      "\n",
      "                    try:\n",
      "                        html = u.read()\n",
      "                        u.close\n",
      "                        instance_split = html.split(\"XBRL INSTANCE DOCUMENT\")\n",
      "                        if len(instance_split) >= 2:\n",
      "                            split_page = instance_split[1].split(\".xml</a>\",1);\n",
      "                            split_xbrl = split_page[0].split(\"<a href=\\\"\")\n",
      "                            split_xml = split_xbrl[len(split_xbrl)-1].split(\"\\\">\")\n",
      "                            \n",
      "                            #grab the filing date\n",
      "                            split_date = html.split(\"<div class=\\\"infoHead\\\">Filing Date</div>\")\n",
      "                            split_date = split_date[1].split(\"<div class=\\\"infoHead\\\">Accepted</div>\")\n",
      "                            split_date = split_date[0].replace(\"<div class=\\\"info\\\">\",\"\")\n",
      "                            split_date = split_date.replace(\"</div>\",\"\")\n",
      "                            split_date = split_date.replace(chr(13), \"\")\n",
      "                            split_date = split_date.replace(chr(10), \"\")\n",
      "\n",
      "                            # then follow the link to the instance file\n",
      "                            url = 'http://www.sec.gov' + split_xml[0]\n",
      "                            u = urllib2.urlopen(url)\n",
      "\n",
      "                            if not \"10-Q/A\" in html and not \"10-K/A\" in html: \n",
      "                                try:\n",
      "                                    html = u.read()\n",
      "                                    html = html.split(\"-->\")\n",
      "                                    xml = \"\"\n",
      "                                    for element in html:\n",
      "                                        sub = element.split(\"<!--\")\n",
      "                                        xml = xml + sub[0] \n",
      "                                    \n",
      "                                    try:\n",
      "                                        xmldoc = etree.fromstring(xml)\n",
      "                                        if len(xmldoc) > 10:\n",
      "\n",
      "                                            #for node in list(xmldoc.iter()):\n",
      "                                            std_list = []\n",
      "                                            ext_list = []\n",
      "                                            ignored = []\n",
      "                                            for node in list(xmldoc):\n",
      "                                                if node.prefix is None or len(node.prefix) == 0:  \n",
      "                                                    ignored.append(node.tag)\n",
      "                                                elif 'dei' in node.prefix or 'us-gaap' in node.prefix:\n",
      "                                                    std_list.append(node.tag)\n",
      "                                                elif not 'xbrl' in node.prefix and not 'link' in node.prefix:\n",
      "                                                    ext_list.append(node.tag)\n",
      "                                                else:\n",
      "                                                    ignored.append(node.tag)\n",
      "                                                #print (node.prefix + \" \" + node.tag)\n",
      "                                                #print node.tag\n",
      "                                                #print node.text\n",
      "                                                #mylist.append(node.prefix)\n",
      "                                            if fact_count > 0:\n",
      "                                                fact_count = len(std_list) + len(ext_list)\n",
      "                                                print str(fact_count) + ' ' + \"facts\"\n",
      "                                                print \"filed on:\" + split_date\n",
      "                                                print str(len(set(std_list))) + ' ' + \"standard concepts\"\n",
      "                                                print str(len(set(ext_list))) + ' ' + \"extended concepts\"\n",
      "                                                set(ignored)\n",
      "                                                result = result + 1\n",
      "                                    finally:\n",
      "                                        pass\n",
      "                                finally:\n",
      "                                    u.close\n",
      "                    finally:\n",
      "                        u.close\n",
      "finally:\n",
      "    u.close\n"
     ],
     "language": "python",
     "metadata": {},
     "outputs": [
      {
       "output_type": "stream",
       "stream": "stdout",
       "text": [
        "cik 1316645\n",
        "http://www.sec.gov/Archives/edgar/data/1316645/000117184315001751/0001171843-15-001751-index.htm"
       ]
      },
      {
       "output_type": "stream",
       "stream": "stdout",
       "text": [
        "\n",
        "880 facts"
       ]
      },
      {
       "output_type": "stream",
       "stream": "stdout",
       "text": [
        "\n",
        "filed on:         2015-03-31         \n",
        "333 standard concepts\n",
        "64 extended concepts\n",
        "http://www.sec.gov/Archives/edgar/data/1316645/000131664514000057/0001316645-14-000057-index.htm\n",
        "621 facts"
       ]
      },
      {
       "output_type": "stream",
       "stream": "stdout",
       "text": [
        "\n",
        "filed on:         2014-11-14         \n",
        "195 standard concepts\n",
        "30 extended concepts\n",
        "http://www.sec.gov/Archives/edgar/data/1316645/000131664514000053/0001316645-14-000053-index.htm\n",
        "474 facts"
       ]
      },
      {
       "output_type": "stream",
       "stream": "stdout",
       "text": [
        "\n",
        "filed on:         2014-08-14         \n",
        "161 standard concepts\n",
        "17 extended concepts\n",
        "http://www.sec.gov/Archives/edgar/data/1316645/000131664514000021/0001316645-14-000021-index.htm\n",
        "201 facts"
       ]
      },
      {
       "output_type": "stream",
       "stream": "stdout",
       "text": [
        "\n",
        "filed on:         2014-05-09         \n",
        "85 standard concepts\n",
        "13 extended concepts\n"
       ]
      }
     ],
     "prompt_number": 259
    },
    {
     "cell_type": "code",
     "collapsed": false,
     "input": [
      "while True:\n",
      "    # check that we still have documents links and haven't gotten our 4 filings\n",
      "    if s >= len(split_page) or result >= 4:\n",
      "        break\n",
      "\n",
      "    split_xbrl = split_page[s].split(\"<a href=\\\"\")\n",
      "    s = s + 1\n",
      "    print split_xbrl"
     ],
     "language": "python",
     "metadata": {},
     "outputs": [],
     "prompt_number": 203
    },
    {
     "cell_type": "code",
     "collapsed": false,
     "input": [
      "html[2]"
     ],
     "language": "python",
     "metadata": {},
     "outputs": [
      {
       "metadata": {},
       "output_type": "pyout",
       "prompt_number": 254,
       "text": [
        "'-'"
       ]
      }
     ],
     "prompt_number": 254
    }
   ],
   "metadata": {}
  }
 ]
}